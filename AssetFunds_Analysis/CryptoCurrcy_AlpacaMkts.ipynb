{
 "cells": [
  {
   "cell_type": "code",
   "execution_count": 1,
   "id": "69579f45-229f-48f4-a01c-49220aa43721",
   "metadata": {},
   "outputs": [],
   "source": [
    "### Make Your Own Crypto ETF using Alpaca’s Crypto API"
   ]
  },
  {
   "cell_type": "code",
   "execution_count": 18,
   "id": "61e39141-606d-427d-86c9-d8c522ff2d70",
   "metadata": {},
   "outputs": [],
   "source": [
    "#Imports for Analysis and MC Simulation Program:\n",
    "from pathlib import Path\n",
    "import pandas as pd\n",
    "import pandas_datareader as pdr\n",
    "import hvplot.pandas\n",
    "import os\n",
    "import requests\n",
    "import json\n",
    "from dotenv import load_dotenv\n",
    "import alpaca_trade_api as tradeapi"
   ]
  },
  {
   "cell_type": "code",
   "execution_count": 19,
   "id": "03ce961c-9762-4851-b646-034a10ef36e9",
   "metadata": {},
   "outputs": [
    {
     "data": {
      "text/plain": [
       "True"
      ]
     },
     "execution_count": 19,
     "metadata": {},
     "output_type": "execute_result"
    }
   ],
   "source": [
    "load_dotenv() "
   ]
  },
  {
   "cell_type": "code",
   "execution_count": 20,
   "id": "e5fc8f1c-f199-42a3-9945-2d200c6b6e9e",
   "metadata": {},
   "outputs": [
    {
     "data": {
      "text/plain": [
       "str"
      ]
     },
     "metadata": {},
     "output_type": "display_data"
    },
    {
     "data": {
      "text/plain": [
       "str"
      ]
     },
     "metadata": {},
     "output_type": "display_data"
    }
   ],
   "source": [
    "from alpaca_trade_api.rest import REST, TimeFrame\n",
    "\n",
    "API_KEY = (\"alpaca_api_key\")\n",
    "SECRET_KEY = (\"alpaca_secret_key\")\n",
    "\n",
    "alpaca_client = REST(API_KEY, SECRET_KEY, 'http://paper-api.alpaca.markets')\n",
    "display(type(API_KEY))\n",
    "display(type(SECRET_KEY))"
   ]
  },
  {
   "cell_type": "code",
   "execution_count": 21,
   "id": "578462cf-5c7d-4d0e-ac42-65c17e2b386a",
   "metadata": {},
   "outputs": [],
   "source": [
    "# Set Alpaca API key and secret by calling the os.getenv function and referencing the environment variable names\n",
    "# Set each environment variable to a notebook variable of the same name\n",
    "#alpaca_api_key = os.getenv(\"ALPACA_API_KEY\")\n",
    "#alpaca_secret_key = os.getenv(\"ALPACA_SECRET_KEY\")\n",
    "\n",
    "# Check the values were imported correctly by evaluating the type of each\n",
    "#display(type(alpaca_api_key))\n",
    "#display(type(alpaca_secret_key)) "
   ]
  },
  {
   "cell_type": "code",
   "execution_count": 22,
   "id": "71ea976a-bf32-4622-a7f3-c7a520208369",
   "metadata": {},
   "outputs": [],
   "source": [
    "# Create your Alpaca API REST object by calling Alpaca's tradeapi.REST function\n",
    "# Set the parameters to your alpaca_api_key, alpaca_secret_key and api_version=\"v2\" \n",
    "#alpaca = tradeapi.REST(\n",
    "#    alpaca_api_key,\n",
    "#    alpaca_secret_key,\n",
    "#    api_version = \"v2\") "
   ]
  },
  {
   "cell_type": "code",
   "execution_count": 23,
   "id": "6c4ef576-89e5-460d-8dba-5466b4218505",
   "metadata": {},
   "outputs": [],
   "source": [
    "limit_rows = 10000\n",
    "bars = alpaca_client.get_crypto_bars(\"BTCUSD\", TimeFrame.Day, \"2020-01-01\", \"2022-02-01\").df "
   ]
  },
  {
   "cell_type": "code",
   "execution_count": 24,
   "id": "0415651a-a657-4b53-80b3-a395b65a8774",
   "metadata": {},
   "outputs": [
    {
     "ename": "HTTPError",
     "evalue": "403 Client Error: Forbidden for url: https://data.alpaca.markets/v2/stocks/BTCUSD/bars?timeframe=1Day&adjustment=raw&start=2020-01-01&end=2022-02-01",
     "output_type": "error",
     "traceback": [
      "\u001b[1;31m---------------------------------------------------------------------------\u001b[0m",
      "\u001b[1;31mHTTPError\u001b[0m                                 Traceback (most recent call last)",
      "\u001b[1;32m~\\AppData\\Local\\Temp/ipykernel_5960/1246125254.py\u001b[0m in \u001b[0;36m<module>\u001b[1;34m\u001b[0m\n\u001b[0;32m      3\u001b[0m \u001b[0mlimit_rows\u001b[0m \u001b[1;33m=\u001b[0m \u001b[1;36m10000\u001b[0m\u001b[1;33m\u001b[0m\u001b[1;33m\u001b[0m\u001b[0m\n\u001b[0;32m      4\u001b[0m \u001b[1;31m# Be sure to call the df property to ensure that the returned information is set as a DataFrame\u001b[0m\u001b[1;33m\u001b[0m\u001b[1;33m\u001b[0m\u001b[0m\n\u001b[1;32m----> 5\u001b[1;33m \u001b[0mcrpto_df\u001b[0m \u001b[1;33m=\u001b[0m \u001b[0malpaca_client\u001b[0m\u001b[1;33m.\u001b[0m\u001b[0mget_bars\u001b[0m\u001b[1;33m(\u001b[0m\u001b[1;34m'BTCUSD'\u001b[0m\u001b[1;33m,\u001b[0m \u001b[0mTimeFrame\u001b[0m\u001b[1;33m.\u001b[0m\u001b[0mDay\u001b[0m\u001b[1;33m,\u001b[0m \u001b[1;34m'2020-01-01'\u001b[0m\u001b[1;33m,\u001b[0m \u001b[1;34m'2022-02-01'\u001b[0m\u001b[1;33m)\u001b[0m\u001b[1;33m.\u001b[0m\u001b[0mdf\u001b[0m\u001b[1;33m\u001b[0m\u001b[1;33m\u001b[0m\u001b[0m\n\u001b[0m",
      "\u001b[1;32m~\\anaconda3\\envs\\dev\\lib\\site-packages\\alpaca_trade_api\\rest.py\u001b[0m in \u001b[0;36mget_bars\u001b[1;34m(self, symbol, timeframe, start, end, adjustment, limit)\u001b[0m\n\u001b[0;32m    665\u001b[0m                  \u001b[0mlimit\u001b[0m\u001b[1;33m:\u001b[0m \u001b[0mint\u001b[0m \u001b[1;33m=\u001b[0m \u001b[1;32mNone\u001b[0m\u001b[1;33m,\u001b[0m\u001b[1;33m\u001b[0m\u001b[1;33m\u001b[0m\u001b[0m\n\u001b[0;32m    666\u001b[0m                  ) -> BarsV2:\n\u001b[1;32m--> 667\u001b[1;33m         bars = list(self.get_bars_iter(symbol,\n\u001b[0m\u001b[0;32m    668\u001b[0m                                        \u001b[0mtimeframe\u001b[0m\u001b[1;33m,\u001b[0m\u001b[1;33m\u001b[0m\u001b[1;33m\u001b[0m\u001b[0m\n\u001b[0;32m    669\u001b[0m                                        \u001b[0mstart\u001b[0m\u001b[1;33m,\u001b[0m\u001b[1;33m\u001b[0m\u001b[1;33m\u001b[0m\u001b[0m\n",
      "\u001b[1;32m~\\anaconda3\\envs\\dev\\lib\\site-packages\\alpaca_trade_api\\rest.py\u001b[0m in \u001b[0;36mget_bars_iter\u001b[1;34m(self, symbol, timeframe, start, end, adjustment, limit, raw)\u001b[0m\n\u001b[0;32m    651\u001b[0m                               \u001b[0madjustment\u001b[0m\u001b[1;33m=\u001b[0m\u001b[0madjustment\u001b[0m\u001b[1;33m,\u001b[0m\u001b[1;33m\u001b[0m\u001b[1;33m\u001b[0m\u001b[0m\n\u001b[0;32m    652\u001b[0m                               start=start, end=end, limit=limit)\n\u001b[1;32m--> 653\u001b[1;33m         \u001b[1;32mfor\u001b[0m \u001b[0mbar\u001b[0m \u001b[1;32min\u001b[0m \u001b[0mbars\u001b[0m\u001b[1;33m:\u001b[0m\u001b[1;33m\u001b[0m\u001b[1;33m\u001b[0m\u001b[0m\n\u001b[0m\u001b[0;32m    654\u001b[0m             \u001b[1;32mif\u001b[0m \u001b[0mraw\u001b[0m\u001b[1;33m:\u001b[0m\u001b[1;33m\u001b[0m\u001b[1;33m\u001b[0m\u001b[0m\n\u001b[0;32m    655\u001b[0m                 \u001b[1;32myield\u001b[0m \u001b[0mbar\u001b[0m\u001b[1;33m\u001b[0m\u001b[1;33m\u001b[0m\u001b[0m\n",
      "\u001b[1;32m~\\anaconda3\\envs\\dev\\lib\\site-packages\\alpaca_trade_api\\rest.py\u001b[0m in \u001b[0;36m_data_get\u001b[1;34m(self, endpoint, symbol_or_symbols, api_version, endpoint_base, resp_grouped_by_symbol, page_limit, **kwargs)\u001b[0m\n\u001b[0;32m    571\u001b[0m             \u001b[1;32mif\u001b[0m \u001b[0mendpoint\u001b[0m\u001b[1;33m:\u001b[0m\u001b[1;33m\u001b[0m\u001b[1;33m\u001b[0m\u001b[0m\n\u001b[0;32m    572\u001b[0m                 \u001b[0mpath\u001b[0m \u001b[1;33m+=\u001b[0m \u001b[1;34mf'/{endpoint}'\u001b[0m\u001b[1;33m\u001b[0m\u001b[1;33m\u001b[0m\u001b[0m\n\u001b[1;32m--> 573\u001b[1;33m             \u001b[0mresp\u001b[0m \u001b[1;33m=\u001b[0m \u001b[0mself\u001b[0m\u001b[1;33m.\u001b[0m\u001b[0mdata_get\u001b[0m\u001b[1;33m(\u001b[0m\u001b[0mpath\u001b[0m\u001b[1;33m,\u001b[0m \u001b[0mdata\u001b[0m\u001b[1;33m=\u001b[0m\u001b[0mdata\u001b[0m\u001b[1;33m,\u001b[0m \u001b[0mapi_version\u001b[0m\u001b[1;33m=\u001b[0m\u001b[0mapi_version\u001b[0m\u001b[1;33m)\u001b[0m\u001b[1;33m\u001b[0m\u001b[1;33m\u001b[0m\u001b[0m\n\u001b[0m\u001b[0;32m    574\u001b[0m             \u001b[1;32mif\u001b[0m \u001b[1;32mnot\u001b[0m \u001b[0mresp_grouped_by_symbol\u001b[0m\u001b[1;33m:\u001b[0m\u001b[1;33m\u001b[0m\u001b[1;33m\u001b[0m\u001b[0m\n\u001b[0;32m    575\u001b[0m                 \u001b[0mk\u001b[0m \u001b[1;33m=\u001b[0m \u001b[0mendpoint\u001b[0m \u001b[1;32mor\u001b[0m \u001b[0mendpoint_base\u001b[0m\u001b[1;33m\u001b[0m\u001b[1;33m\u001b[0m\u001b[0m\n",
      "\u001b[1;32m~\\anaconda3\\envs\\dev\\lib\\site-packages\\alpaca_trade_api\\rest.py\u001b[0m in \u001b[0;36mdata_get\u001b[1;34m(self, path, data, api_version)\u001b[0m\n\u001b[0;32m    264\u001b[0m     \u001b[1;32mdef\u001b[0m \u001b[0mdata_get\u001b[0m\u001b[1;33m(\u001b[0m\u001b[0mself\u001b[0m\u001b[1;33m,\u001b[0m \u001b[0mpath\u001b[0m\u001b[1;33m,\u001b[0m \u001b[0mdata\u001b[0m\u001b[1;33m=\u001b[0m\u001b[1;32mNone\u001b[0m\u001b[1;33m,\u001b[0m \u001b[0mapi_version\u001b[0m\u001b[1;33m=\u001b[0m\u001b[1;34m'v1'\u001b[0m\u001b[1;33m)\u001b[0m\u001b[1;33m:\u001b[0m\u001b[1;33m\u001b[0m\u001b[1;33m\u001b[0m\u001b[0m\n\u001b[0;32m    265\u001b[0m         \u001b[0mbase_url\u001b[0m\u001b[1;33m:\u001b[0m \u001b[0mURL\u001b[0m \u001b[1;33m=\u001b[0m \u001b[0mget_data_url\u001b[0m\u001b[1;33m(\u001b[0m\u001b[1;33m)\u001b[0m\u001b[1;33m\u001b[0m\u001b[1;33m\u001b[0m\u001b[0m\n\u001b[1;32m--> 266\u001b[1;33m         return self._request(\n\u001b[0m\u001b[0;32m    267\u001b[0m             \u001b[1;34m'GET'\u001b[0m\u001b[1;33m,\u001b[0m \u001b[0mpath\u001b[0m\u001b[1;33m,\u001b[0m \u001b[0mdata\u001b[0m\u001b[1;33m,\u001b[0m \u001b[0mbase_url\u001b[0m\u001b[1;33m=\u001b[0m\u001b[0mbase_url\u001b[0m\u001b[1;33m,\u001b[0m \u001b[0mapi_version\u001b[0m\u001b[1;33m=\u001b[0m\u001b[0mapi_version\u001b[0m\u001b[1;33m,\u001b[0m\u001b[1;33m\u001b[0m\u001b[1;33m\u001b[0m\u001b[0m\n\u001b[0;32m    268\u001b[0m         )\n",
      "\u001b[1;32m~\\anaconda3\\envs\\dev\\lib\\site-packages\\alpaca_trade_api\\rest.py\u001b[0m in \u001b[0;36m_request\u001b[1;34m(self, method, path, data, base_url, api_version)\u001b[0m\n\u001b[0;32m    211\u001b[0m         \u001b[1;32mwhile\u001b[0m \u001b[0mretry\u001b[0m \u001b[1;33m>=\u001b[0m \u001b[1;36m0\u001b[0m\u001b[1;33m:\u001b[0m\u001b[1;33m\u001b[0m\u001b[1;33m\u001b[0m\u001b[0m\n\u001b[0;32m    212\u001b[0m             \u001b[1;32mtry\u001b[0m\u001b[1;33m:\u001b[0m\u001b[1;33m\u001b[0m\u001b[1;33m\u001b[0m\u001b[0m\n\u001b[1;32m--> 213\u001b[1;33m                 \u001b[1;32mreturn\u001b[0m \u001b[0mself\u001b[0m\u001b[1;33m.\u001b[0m\u001b[0m_one_request\u001b[0m\u001b[1;33m(\u001b[0m\u001b[0mmethod\u001b[0m\u001b[1;33m,\u001b[0m \u001b[0murl\u001b[0m\u001b[1;33m,\u001b[0m \u001b[0mopts\u001b[0m\u001b[1;33m,\u001b[0m \u001b[0mretry\u001b[0m\u001b[1;33m)\u001b[0m\u001b[1;33m\u001b[0m\u001b[1;33m\u001b[0m\u001b[0m\n\u001b[0m\u001b[0;32m    214\u001b[0m             \u001b[1;32mexcept\u001b[0m \u001b[0mRetryException\u001b[0m\u001b[1;33m:\u001b[0m\u001b[1;33m\u001b[0m\u001b[1;33m\u001b[0m\u001b[0m\n\u001b[0;32m    215\u001b[0m                 \u001b[0mretry_wait\u001b[0m \u001b[1;33m=\u001b[0m \u001b[0mself\u001b[0m\u001b[1;33m.\u001b[0m\u001b[0m_retry_wait\u001b[0m\u001b[1;33m\u001b[0m\u001b[1;33m\u001b[0m\u001b[0m\n",
      "\u001b[1;32m~\\anaconda3\\envs\\dev\\lib\\site-packages\\alpaca_trade_api\\rest.py\u001b[0m in \u001b[0;36m_one_request\u001b[1;34m(self, method, url, opts, retry)\u001b[0m\n\u001b[0;32m    232\u001b[0m         \u001b[0mresp\u001b[0m \u001b[1;33m=\u001b[0m \u001b[0mself\u001b[0m\u001b[1;33m.\u001b[0m\u001b[0m_session\u001b[0m\u001b[1;33m.\u001b[0m\u001b[0mrequest\u001b[0m\u001b[1;33m(\u001b[0m\u001b[0mmethod\u001b[0m\u001b[1;33m,\u001b[0m \u001b[0murl\u001b[0m\u001b[1;33m,\u001b[0m \u001b[1;33m**\u001b[0m\u001b[0mopts\u001b[0m\u001b[1;33m)\u001b[0m\u001b[1;33m\u001b[0m\u001b[1;33m\u001b[0m\u001b[0m\n\u001b[0;32m    233\u001b[0m         \u001b[1;32mtry\u001b[0m\u001b[1;33m:\u001b[0m\u001b[1;33m\u001b[0m\u001b[1;33m\u001b[0m\u001b[0m\n\u001b[1;32m--> 234\u001b[1;33m             \u001b[0mresp\u001b[0m\u001b[1;33m.\u001b[0m\u001b[0mraise_for_status\u001b[0m\u001b[1;33m(\u001b[0m\u001b[1;33m)\u001b[0m\u001b[1;33m\u001b[0m\u001b[1;33m\u001b[0m\u001b[0m\n\u001b[0m\u001b[0;32m    235\u001b[0m         \u001b[1;32mexcept\u001b[0m \u001b[0mHTTPError\u001b[0m \u001b[1;32mas\u001b[0m \u001b[0mhttp_error\u001b[0m\u001b[1;33m:\u001b[0m\u001b[1;33m\u001b[0m\u001b[1;33m\u001b[0m\u001b[0m\n\u001b[0;32m    236\u001b[0m             \u001b[1;31m# retry if we hit Rate Limit\u001b[0m\u001b[1;33m\u001b[0m\u001b[1;33m\u001b[0m\u001b[0m\n",
      "\u001b[1;32m~\\anaconda3\\envs\\dev\\lib\\site-packages\\requests\\models.py\u001b[0m in \u001b[0;36mraise_for_status\u001b[1;34m(self)\u001b[0m\n\u001b[0;32m    951\u001b[0m \u001b[1;33m\u001b[0m\u001b[0m\n\u001b[0;32m    952\u001b[0m         \u001b[1;32mif\u001b[0m \u001b[0mhttp_error_msg\u001b[0m\u001b[1;33m:\u001b[0m\u001b[1;33m\u001b[0m\u001b[1;33m\u001b[0m\u001b[0m\n\u001b[1;32m--> 953\u001b[1;33m             \u001b[1;32mraise\u001b[0m \u001b[0mHTTPError\u001b[0m\u001b[1;33m(\u001b[0m\u001b[0mhttp_error_msg\u001b[0m\u001b[1;33m,\u001b[0m \u001b[0mresponse\u001b[0m\u001b[1;33m=\u001b[0m\u001b[0mself\u001b[0m\u001b[1;33m)\u001b[0m\u001b[1;33m\u001b[0m\u001b[1;33m\u001b[0m\u001b[0m\n\u001b[0m\u001b[0;32m    954\u001b[0m \u001b[1;33m\u001b[0m\u001b[0m\n\u001b[0;32m    955\u001b[0m     \u001b[1;32mdef\u001b[0m \u001b[0mclose\u001b[0m\u001b[1;33m(\u001b[0m\u001b[0mself\u001b[0m\u001b[1;33m)\u001b[0m\u001b[1;33m:\u001b[0m\u001b[1;33m\u001b[0m\u001b[1;33m\u001b[0m\u001b[0m\n",
      "\u001b[1;31mHTTPError\u001b[0m: 403 Client Error: Forbidden for url: https://data.alpaca.markets/v2/stocks/BTCUSD/bars?timeframe=1Day&adjustment=raw&start=2020-01-01&end=2022-02-01"
     ]
    }
   ],
   "source": [
    "# Use the Alpaca get_bars function to gather the price information for each ticker\n",
    "# Include the function parameters: tickers, timeframe, start, end, and limit \n",
    "# limit_rows = 10000\n",
    "# Be sure to call the df property to ensure that the returned information is set as a DataFrame\n",
    "#crpto_df = alpaca_client.get_bars('BTCUSD', TimeFrame.Day, '2020-01-01', '2022-02-01').df"
   ]
  },
  {
   "cell_type": "code",
   "execution_count": null,
   "id": "f03ffe95-4615-40bc-8b66-2531d50101d3",
   "metadata": {},
   "outputs": [],
   "source": [
    "returns = {}\n",
    "\n",
    "for coin in coins:\n",
    "  bars = rest.get_crypto_bars(coin, TimeFrame.Day, \"2020-01-01\", \"2022-01-01\", exchanges=[\"FTXU\"]).df\n",
    "  bars['daily_return'] = bars['close'].pct_change()  \n",
    "  cumulative_return = bars['daily_return'].add(1).cumprod().sub(1).dropna()\n",
    "  returns[coin] = cumulative_return\n",
    "\n",
    "df = pd.DataFrame(returns)\n",
    "\n",
    "df['Balanced ETF'] = df.mean(axis=1)\n",
    "\n",
    "df.plot()"
   ]
  },
  {
   "cell_type": "code",
   "execution_count": null,
   "id": "d6ac3199-afa0-4fea-842e-21c695a5c29a",
   "metadata": {},
   "outputs": [],
   "source": [
    "#Calculating Historical Returns For Strategy\n",
    "# Crytpto coin symbol listings\n",
    "coins = [\n",
    "\n",
    "\"AAVEUSD\",   #\tAave (AAVE)\n",
    "\"BATUSD\",    #\tBasic Attention Token (BAT)\n",
    "\"BTCUSD\",    #\tBitcoin (BTC)\n",
    "\"BCHUSD\",    #\tBitcoin Cash (BCH)\n",
    "\"LINKUSD\",   #\tChainLink Token (LINK)\n",
    "\"DAIUSD\",    #\tDai (DAI)\n",
    "\"DOGEUSD\",   #\tDogecoin (DOGE)\n",
    "\"ETHUSD\",    #\tEthereum (ETH)\n",
    "\"GRTUSD\",    #\tGraph Token (GRT)\n",
    "\"LTCUSD\",    #\tLitecoin (LTC)\n",
    "\"MKRUSD\",    #\tMaker (MKR)\n",
    "\"MATICUSD\",  #\tMatic (MATIC)\n",
    "\"PAXGUSD\",   #\tPAX Gold (PAXG)\n",
    "\"SHIBUSD\",   #\tShiba Inu (SHIB)\n",
    "\"SOLUSD\",    #\tSolana (SOL)\n",
    "\"SUSHIUSD\",  #\tSushi (SUSHI)\n",
    "\"USDTUSD\",   #\tTether (USDT)\n",
    "\"TRXUSD\",    #\tTRON (TRX)\n",
    "\"UNIUSD\",    #\tUniswap Protocol Token (UNI)\n",
    "\"WBTCUSD\",   # \tWrapped BTC (WBTC)\n",
    "\"YFIUSD\",    #  Yearn.Finance (YFI)\n",
    "\n",
    "]"
   ]
  },
  {
   "cell_type": "code",
   "execution_count": null,
   "id": "bfe6dd9e-20fa-4f67-b504-af3194787c83",
   "metadata": {},
   "outputs": [],
   "source": [
    "#Comparing Strategies Using The Sharpe Ratio\n",
    "risk_free_rate = 0.02\n",
    "sharpe_ratio = (df.iloc[-1] - risk_free_rate) / df.std()\n",
    "\n",
    "# sort in descending order\n",
    "sharpe_ratio.sort_values(ascending=False)"
   ]
  },
  {
   "cell_type": "code",
   "execution_count": null,
   "id": "1757604d-2610-4a5b-a467-853647353f26",
   "metadata": {},
   "outputs": [],
   "source": [
    "# Creating Our Own Balanced Crypto ETF \n",
    "def rebalance_crypto_etf():\n",
    "    account = alpaca_client.get_account()\n",
    "\n",
    "\t# delegate 95% of portfolio to ETF, leaving 5% cash on hand \n",
    "    # allows us to account for slippage or changes in margin requirements\n",
    "    buying_power = float(account.portfolio_value) * 0.95\n",
    "\t\n",
    "    # the rebalance threshold is the amount an allocation must deviate\n",
    "    # before we place an order to rebalance it\n",
    "    rebalance_threshold = 0.001 * buying_power\n",
    "\t\n",
    "    # the desired allocation per coin\n",
    "    desired_allocation = buying_power / len(coins)\n",
    "\n",
    "    for coin in coins:\n",
    "      \n",
    "      # the current position size of that coin in our portfolio\n",
    "      current_value = get_position_value(coin)\n",
    "      \n",
    "      # the difference between the desired allocation and existing allocation\n",
    "      delta_alloc = desired_allocation - current_value\n",
    "      \n",
    "      # buy if delta is positive else sell\n",
    "      side = \"buy\" if delta_alloc > 0 else \"sell\"\n",
    "      \n",
    "      notional = abs(delta_alloc)\n",
    "      \n",
    "      if notional > rebalance_threshold:\n",
    "        alpaca_client.submit_order(symbol=coin, side=side, notional=notional)\n",
    "\n",
    "\n",
    "def get_position_value(symbol):\n",
    "\t\"\"\"Returns the market value of holdings in a given symbol.\"\"\"\n",
    "    try:\n",
    "        position = alpaca_client.get_position(symbol)\n",
    "        return float(position.market_value)\n",
    "    except:\n",
    "\t\t# if there is no position open, a 404 error is thrown\n",
    "        # 0 market value for that symbol\n",
    "        return 0\n"
   ]
  },
  {
   "cell_type": "code",
   "execution_count": null,
   "id": "b2b885d4-1d7f-485a-b0c0-552e8c569701",
   "metadata": {},
   "outputs": [],
   "source": [
    "#Scheduling For Rebalance \n",
    "# [pip install schedule] \n",
    "import schedule\n",
    "import time\n",
    "\n",
    "schedule.every().monday.at(\"10:30\").do(rebalance_crypto_etf)\n",
    "\n",
    "while True:\n",
    "    schedule.run_pending()\n",
    "    time.sleep(1)"
   ]
  },
  {
   "cell_type": "code",
   "execution_count": null,
   "id": "9c776d90-c426-4759-bc6f-834f67787414",
   "metadata": {},
   "outputs": [],
   "source": []
  },
  {
   "cell_type": "code",
   "execution_count": null,
   "id": "d3588909-9f3c-4d8b-8bef-06231ba5b770",
   "metadata": {},
   "outputs": [],
   "source": []
  },
  {
   "cell_type": "code",
   "execution_count": null,
   "id": "303f6109-9fcb-4058-906b-b6cd8c369916",
   "metadata": {},
   "outputs": [],
   "source": []
  },
  {
   "cell_type": "code",
   "execution_count": null,
   "id": "2d36b043-77f0-47c0-a442-3104eafc129b",
   "metadata": {},
   "outputs": [],
   "source": []
  }
 ],
 "metadata": {
  "kernelspec": {
   "display_name": "dev",
   "language": "python",
   "name": "dev"
  },
  "language_info": {
   "codemirror_mode": {
    "name": "ipython",
    "version": 3
   },
   "file_extension": ".py",
   "mimetype": "text/x-python",
   "name": "python",
   "nbconvert_exporter": "python",
   "pygments_lexer": "ipython3",
   "version": "3.9.7"
  }
 },
 "nbformat": 4,
 "nbformat_minor": 5
}
