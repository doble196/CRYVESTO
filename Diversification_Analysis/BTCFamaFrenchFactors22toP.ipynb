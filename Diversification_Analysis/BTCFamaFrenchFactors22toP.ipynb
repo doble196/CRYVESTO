{
 "cells": [
  {
   "cell_type": "markdown",
   "id": "7397d8eb-d505-4b7c-9d80-6c0c64961f9b",
   "metadata": {},
   "source": [
    "# SUMMARY:\n",
    "\n",
    "This notebook runs a Fama French 4-Factor regression analysis for 2022 (Jan 1 to end of March) with training and testing of the data. The fourth factor, momentum, is setup to be optional. \n",
    "Note: March 31st, 2022 is the furthest 2022 date that we are able to get factor data as of time of writing."
   ]
  },
  {
   "cell_type": "code",
   "execution_count": 1,
   "id": "10a20271-cbbe-412f-b2ff-0cc57100137c",
   "metadata": {
    "tags": []
   },
   "outputs": [],
   "source": [
    "# Initial Imports:\n",
    "\n",
    "import pandas as pd\n",
    "from pathlib import Path\n",
    "import pandas_datareader.data as reader\n",
    "import datetime as dt\n",
    "import statsmodels.api as sm\n",
    "import getFamaFrenchFactors as gff\n",
    "\n",
    "from sklearn.linear_model import LinearRegression\n",
    "from sklearn import linear_model\n",
    "from sklearn.model_selection import train_test_split\n",
    "from sklearn.metrics import r2_score\n",
    "\n",
    "# For visualizations:\n",
    "import seaborn as sns"
   ]
  },
  {
   "cell_type": "markdown",
   "id": "38f7df3c-2ef0-4474-9905-bcbe08d5cd0c",
   "metadata": {},
   "source": [
    "# SECTION I: DATA CAPTURE AND ORGANIZATION"
   ]
  },
  {
   "cell_type": "code",
   "execution_count": 2,
   "id": "b34c5fae-3a65-496a-8cad-57e5f8063dee",
   "metadata": {},
   "outputs": [],
   "source": [
    "# Set start and end times and establish BTC as our asset of investigation.\n",
    "\n",
    "end = dt.date(2022, 3, 31)\n",
    "start = dt.date(2022, 1, 1)\n",
    "ticker = [\"BTC-USD\"]"
   ]
  },
  {
   "cell_type": "code",
   "execution_count": 3,
   "id": "962bc612-7483-4e63-8c17-d56029e4b58d",
   "metadata": {},
   "outputs": [
    {
     "data": {
      "text/html": [
       "<div>\n",
       "<style scoped>\n",
       "    .dataframe tbody tr th:only-of-type {\n",
       "        vertical-align: middle;\n",
       "    }\n",
       "\n",
       "    .dataframe tbody tr th {\n",
       "        vertical-align: top;\n",
       "    }\n",
       "\n",
       "    .dataframe thead th {\n",
       "        text-align: right;\n",
       "    }\n",
       "</style>\n",
       "<table border=\"1\" class=\"dataframe\">\n",
       "  <thead>\n",
       "    <tr style=\"text-align: right;\">\n",
       "      <th>Symbols</th>\n",
       "      <th>BTC-USD</th>\n",
       "    </tr>\n",
       "    <tr>\n",
       "      <th>Date</th>\n",
       "      <th></th>\n",
       "    </tr>\n",
       "  </thead>\n",
       "  <tbody>\n",
       "    <tr>\n",
       "      <th>2022-01-01</th>\n",
       "      <td>47686.812500</td>\n",
       "    </tr>\n",
       "    <tr>\n",
       "      <th>2022-01-02</th>\n",
       "      <td>47345.218750</td>\n",
       "    </tr>\n",
       "    <tr>\n",
       "      <th>2022-01-03</th>\n",
       "      <td>46458.117188</td>\n",
       "    </tr>\n",
       "    <tr>\n",
       "      <th>2022-01-04</th>\n",
       "      <td>45897.574219</td>\n",
       "    </tr>\n",
       "    <tr>\n",
       "      <th>2022-01-05</th>\n",
       "      <td>43569.003906</td>\n",
       "    </tr>\n",
       "  </tbody>\n",
       "</table>\n",
       "</div>"
      ],
      "text/plain": [
       "Symbols          BTC-USD\n",
       "Date                    \n",
       "2022-01-01  47686.812500\n",
       "2022-01-02  47345.218750\n",
       "2022-01-03  46458.117188\n",
       "2022-01-04  45897.574219\n",
       "2022-01-05  43569.003906"
      ]
     },
     "metadata": {},
     "output_type": "display_data"
    },
    {
     "data": {
      "text/html": [
       "<div>\n",
       "<style scoped>\n",
       "    .dataframe tbody tr th:only-of-type {\n",
       "        vertical-align: middle;\n",
       "    }\n",
       "\n",
       "    .dataframe tbody tr th {\n",
       "        vertical-align: top;\n",
       "    }\n",
       "\n",
       "    .dataframe thead th {\n",
       "        text-align: right;\n",
       "    }\n",
       "</style>\n",
       "<table border=\"1\" class=\"dataframe\">\n",
       "  <thead>\n",
       "    <tr style=\"text-align: right;\">\n",
       "      <th>Symbols</th>\n",
       "      <th>BTC-USD</th>\n",
       "    </tr>\n",
       "    <tr>\n",
       "      <th>Date</th>\n",
       "      <th></th>\n",
       "    </tr>\n",
       "  </thead>\n",
       "  <tbody>\n",
       "    <tr>\n",
       "      <th>2022-03-28</th>\n",
       "      <td>47128.003906</td>\n",
       "    </tr>\n",
       "    <tr>\n",
       "      <th>2022-03-29</th>\n",
       "      <td>47465.730469</td>\n",
       "    </tr>\n",
       "    <tr>\n",
       "      <th>2022-03-30</th>\n",
       "      <td>47062.664062</td>\n",
       "    </tr>\n",
       "    <tr>\n",
       "      <th>2022-03-31</th>\n",
       "      <td>45538.675781</td>\n",
       "    </tr>\n",
       "    <tr>\n",
       "      <th>2022-04-01</th>\n",
       "      <td>46281.644531</td>\n",
       "    </tr>\n",
       "  </tbody>\n",
       "</table>\n",
       "</div>"
      ],
      "text/plain": [
       "Symbols          BTC-USD\n",
       "Date                    \n",
       "2022-03-28  47128.003906\n",
       "2022-03-29  47465.730469\n",
       "2022-03-30  47062.664062\n",
       "2022-03-31  45538.675781\n",
       "2022-04-01  46281.644531"
      ]
     },
     "execution_count": 3,
     "metadata": {},
     "output_type": "execute_result"
    }
   ],
   "source": [
    "# Get BTC closing prices.\n",
    "\n",
    "btc_dreturns = reader.get_data_yahoo(ticker, start, end)[\"Close\"]\n",
    "display(btc_dreturns.head())\n",
    "btc_dreturns.tail()"
   ]
  },
  {
   "cell_type": "code",
   "execution_count": 4,
   "id": "d2078f0a-a025-4045-b6f5-da5b2f64471c",
   "metadata": {},
   "outputs": [
    {
     "data": {
      "text/html": [
       "<div>\n",
       "<style scoped>\n",
       "    .dataframe tbody tr th:only-of-type {\n",
       "        vertical-align: middle;\n",
       "    }\n",
       "\n",
       "    .dataframe tbody tr th {\n",
       "        vertical-align: top;\n",
       "    }\n",
       "\n",
       "    .dataframe thead th {\n",
       "        text-align: right;\n",
       "    }\n",
       "</style>\n",
       "<table border=\"1\" class=\"dataframe\">\n",
       "  <thead>\n",
       "    <tr style=\"text-align: right;\">\n",
       "      <th>Symbols</th>\n",
       "      <th>BTC-USD</th>\n",
       "    </tr>\n",
       "    <tr>\n",
       "      <th>Date</th>\n",
       "      <th></th>\n",
       "    </tr>\n",
       "  </thead>\n",
       "  <tbody>\n",
       "    <tr>\n",
       "      <th>2022-01-02</th>\n",
       "      <td>-0.007163</td>\n",
       "    </tr>\n",
       "    <tr>\n",
       "      <th>2022-01-03</th>\n",
       "      <td>-0.018737</td>\n",
       "    </tr>\n",
       "    <tr>\n",
       "      <th>2022-01-04</th>\n",
       "      <td>-0.012066</td>\n",
       "    </tr>\n",
       "    <tr>\n",
       "      <th>2022-01-05</th>\n",
       "      <td>-0.050734</td>\n",
       "    </tr>\n",
       "    <tr>\n",
       "      <th>2022-01-06</th>\n",
       "      <td>-0.009366</td>\n",
       "    </tr>\n",
       "  </tbody>\n",
       "</table>\n",
       "</div>"
      ],
      "text/plain": [
       "Symbols      BTC-USD\n",
       "Date                \n",
       "2022-01-02 -0.007163\n",
       "2022-01-03 -0.018737\n",
       "2022-01-04 -0.012066\n",
       "2022-01-05 -0.050734\n",
       "2022-01-06 -0.009366"
      ]
     },
     "metadata": {},
     "output_type": "display_data"
    },
    {
     "data": {
      "text/html": [
       "<div>\n",
       "<style scoped>\n",
       "    .dataframe tbody tr th:only-of-type {\n",
       "        vertical-align: middle;\n",
       "    }\n",
       "\n",
       "    .dataframe tbody tr th {\n",
       "        vertical-align: top;\n",
       "    }\n",
       "\n",
       "    .dataframe thead th {\n",
       "        text-align: right;\n",
       "    }\n",
       "</style>\n",
       "<table border=\"1\" class=\"dataframe\">\n",
       "  <thead>\n",
       "    <tr style=\"text-align: right;\">\n",
       "      <th>Symbols</th>\n",
       "      <th>BTC-USD</th>\n",
       "    </tr>\n",
       "    <tr>\n",
       "      <th>Date</th>\n",
       "      <th></th>\n",
       "    </tr>\n",
       "  </thead>\n",
       "  <tbody>\n",
       "    <tr>\n",
       "      <th>2022-03-28</th>\n",
       "      <td>0.006568</td>\n",
       "    </tr>\n",
       "    <tr>\n",
       "      <th>2022-03-29</th>\n",
       "      <td>0.007166</td>\n",
       "    </tr>\n",
       "    <tr>\n",
       "      <th>2022-03-30</th>\n",
       "      <td>-0.008492</td>\n",
       "    </tr>\n",
       "    <tr>\n",
       "      <th>2022-03-31</th>\n",
       "      <td>-0.032382</td>\n",
       "    </tr>\n",
       "    <tr>\n",
       "      <th>2022-04-01</th>\n",
       "      <td>0.016315</td>\n",
       "    </tr>\n",
       "  </tbody>\n",
       "</table>\n",
       "</div>"
      ],
      "text/plain": [
       "Symbols      BTC-USD\n",
       "Date                \n",
       "2022-03-28  0.006568\n",
       "2022-03-29  0.007166\n",
       "2022-03-30 -0.008492\n",
       "2022-03-31 -0.032382\n",
       "2022-04-01  0.016315"
      ]
     },
     "execution_count": 4,
     "metadata": {},
     "output_type": "execute_result"
    }
   ],
   "source": [
    "# Get daily returns of BTC.\n",
    "\n",
    "btc_dreturns = btc_dreturns.pct_change().dropna() #convert to daily returns and drop NaN values\n",
    "display(btc_dreturns.head())\n",
    "btc_dreturns.tail()"
   ]
  },
  {
   "cell_type": "code",
   "execution_count": 5,
   "id": "a32ba669-2cbc-4857-9741-7dde28ddd531",
   "metadata": {},
   "outputs": [
    {
     "data": {
      "text/html": [
       "<div>\n",
       "<style scoped>\n",
       "    .dataframe tbody tr th:only-of-type {\n",
       "        vertical-align: middle;\n",
       "    }\n",
       "\n",
       "    .dataframe tbody tr th {\n",
       "        vertical-align: top;\n",
       "    }\n",
       "\n",
       "    .dataframe thead th {\n",
       "        text-align: right;\n",
       "    }\n",
       "</style>\n",
       "<table border=\"1\" class=\"dataframe\">\n",
       "  <thead>\n",
       "    <tr style=\"text-align: right;\">\n",
       "      <th></th>\n",
       "      <th>Mkt-RF</th>\n",
       "      <th>SMB</th>\n",
       "      <th>HML</th>\n",
       "      <th>RF</th>\n",
       "    </tr>\n",
       "    <tr>\n",
       "      <th>Date</th>\n",
       "      <th></th>\n",
       "      <th></th>\n",
       "      <th></th>\n",
       "      <th></th>\n",
       "    </tr>\n",
       "  </thead>\n",
       "  <tbody>\n",
       "    <tr>\n",
       "      <th>2022-01-03</th>\n",
       "      <td>0.73</td>\n",
       "      <td>0.32</td>\n",
       "      <td>0.79</td>\n",
       "      <td>0.0</td>\n",
       "    </tr>\n",
       "    <tr>\n",
       "      <th>2022-01-04</th>\n",
       "      <td>-0.29</td>\n",
       "      <td>-0.81</td>\n",
       "      <td>3.62</td>\n",
       "      <td>0.0</td>\n",
       "    </tr>\n",
       "    <tr>\n",
       "      <th>2022-01-05</th>\n",
       "      <td>-2.28</td>\n",
       "      <td>-1.46</td>\n",
       "      <td>2.60</td>\n",
       "      <td>0.0</td>\n",
       "    </tr>\n",
       "    <tr>\n",
       "      <th>2022-01-06</th>\n",
       "      <td>0.00</td>\n",
       "      <td>0.21</td>\n",
       "      <td>1.75</td>\n",
       "      <td>0.0</td>\n",
       "    </tr>\n",
       "    <tr>\n",
       "      <th>2022-01-07</th>\n",
       "      <td>-0.48</td>\n",
       "      <td>-1.32</td>\n",
       "      <td>2.02</td>\n",
       "      <td>0.0</td>\n",
       "    </tr>\n",
       "  </tbody>\n",
       "</table>\n",
       "</div>"
      ],
      "text/plain": [
       "            Mkt-RF   SMB   HML   RF\n",
       "Date                               \n",
       "2022-01-03    0.73  0.32  0.79  0.0\n",
       "2022-01-04   -0.29 -0.81  3.62  0.0\n",
       "2022-01-05   -2.28 -1.46  2.60  0.0\n",
       "2022-01-06    0.00  0.21  1.75  0.0\n",
       "2022-01-07   -0.48 -1.32  2.02  0.0"
      ]
     },
     "execution_count": 5,
     "metadata": {},
     "output_type": "execute_result"
    }
   ],
   "source": [
    "# Get daily factor data  \n",
    "\n",
    "ff3_daily = reader.DataReader(\"F-F_Research_Data_Factors_daily\", \"famafrench\", start, end)[0]  \n",
    "ff3_daily.head()"
   ]
  },
  {
   "cell_type": "code",
   "execution_count": 6,
   "id": "c9b5ad71-5bc4-4a90-8aa4-1e593d1232f7",
   "metadata": {},
   "outputs": [
    {
     "data": {
      "text/html": [
       "<div>\n",
       "<style scoped>\n",
       "    .dataframe tbody tr th:only-of-type {\n",
       "        vertical-align: middle;\n",
       "    }\n",
       "\n",
       "    .dataframe tbody tr th {\n",
       "        vertical-align: top;\n",
       "    }\n",
       "\n",
       "    .dataframe thead th {\n",
       "        text-align: right;\n",
       "    }\n",
       "</style>\n",
       "<table border=\"1\" class=\"dataframe\">\n",
       "  <thead>\n",
       "    <tr style=\"text-align: right;\">\n",
       "      <th></th>\n",
       "      <th>Mkt-RF</th>\n",
       "      <th>SMB</th>\n",
       "      <th>HML</th>\n",
       "      <th>RF</th>\n",
       "    </tr>\n",
       "    <tr>\n",
       "      <th>Date</th>\n",
       "      <th></th>\n",
       "      <th></th>\n",
       "      <th></th>\n",
       "      <th></th>\n",
       "    </tr>\n",
       "  </thead>\n",
       "  <tbody>\n",
       "    <tr>\n",
       "      <th>2022-01-03</th>\n",
       "      <td>0.0073</td>\n",
       "      <td>0.0032</td>\n",
       "      <td>0.0079</td>\n",
       "      <td>0.0</td>\n",
       "    </tr>\n",
       "    <tr>\n",
       "      <th>2022-01-04</th>\n",
       "      <td>-0.0029</td>\n",
       "      <td>-0.0081</td>\n",
       "      <td>0.0362</td>\n",
       "      <td>0.0</td>\n",
       "    </tr>\n",
       "    <tr>\n",
       "      <th>2022-01-05</th>\n",
       "      <td>-0.0228</td>\n",
       "      <td>-0.0146</td>\n",
       "      <td>0.0260</td>\n",
       "      <td>0.0</td>\n",
       "    </tr>\n",
       "    <tr>\n",
       "      <th>2022-01-06</th>\n",
       "      <td>0.0000</td>\n",
       "      <td>0.0021</td>\n",
       "      <td>0.0175</td>\n",
       "      <td>0.0</td>\n",
       "    </tr>\n",
       "    <tr>\n",
       "      <th>2022-01-07</th>\n",
       "      <td>-0.0048</td>\n",
       "      <td>-0.0132</td>\n",
       "      <td>0.0202</td>\n",
       "      <td>0.0</td>\n",
       "    </tr>\n",
       "  </tbody>\n",
       "</table>\n",
       "</div>"
      ],
      "text/plain": [
       "            Mkt-RF     SMB     HML   RF\n",
       "Date                                   \n",
       "2022-01-03  0.0073  0.0032  0.0079  0.0\n",
       "2022-01-04 -0.0029 -0.0081  0.0362  0.0\n",
       "2022-01-05 -0.0228 -0.0146  0.0260  0.0\n",
       "2022-01-06  0.0000  0.0021  0.0175  0.0\n",
       "2022-01-07 -0.0048 -0.0132  0.0202  0.0"
      ]
     },
     "execution_count": 6,
     "metadata": {},
     "output_type": "execute_result"
    }
   ],
   "source": [
    "# Divide select columns by 100 (because inputted Mkt-RF, SMB, and HML columns are in percentages while RF column is not).\n",
    "\n",
    "ff3_daily[[\"Mkt-RF\", \"SMB\", \"HML\"]] = ff3_daily[[\"Mkt-RF\", \"SMB\", \"HML\"]]/100 \n",
    "ff3_daily.head()"
   ]
  },
  {
   "cell_type": "code",
   "execution_count": 7,
   "id": "6a4230b5-fac9-4976-bc92-54828f39cadf",
   "metadata": {},
   "outputs": [
    {
     "ename": "FileNotFoundError",
     "evalue": "[Errno 2] No such file or directory: 'Resources/F-F_Momentum_Factor_daily.csv'",
     "output_type": "error",
     "traceback": [
      "\u001b[0;31m---------------------------------------------------------------------------\u001b[0m",
      "\u001b[0;31mFileNotFoundError\u001b[0m                         Traceback (most recent call last)",
      "\u001b[0;32m/var/folders/_d/_9jtvvb95j3fbj7lq5n93bbr0000gn/T/ipykernel_40972/12761260.py\u001b[0m in \u001b[0;36m<module>\u001b[0;34m\u001b[0m\n\u001b[1;32m      6\u001b[0m momentum_factor = pd.read_csv(\n\u001b[1;32m      7\u001b[0m     \u001b[0mPath\u001b[0m\u001b[0;34m(\u001b[0m\u001b[0;34m\"./Resources/F-F_Momentum_Factor_daily.csv\"\u001b[0m\u001b[0;34m)\u001b[0m\u001b[0;34m,\u001b[0m\u001b[0;34m\u001b[0m\u001b[0;34m\u001b[0m\u001b[0m\n\u001b[0;32m----> 8\u001b[0;31m     \u001b[0mheader\u001b[0m\u001b[0;34m=\u001b[0m\u001b[0;32mNone\u001b[0m\u001b[0;34m\u001b[0m\u001b[0;34m\u001b[0m\u001b[0m\n\u001b[0m\u001b[1;32m      9\u001b[0m )\n\u001b[1;32m     10\u001b[0m \u001b[0;34m\u001b[0m\u001b[0m\n",
      "\u001b[0;32m~/opt/anaconda3/envs/dev/lib/python3.7/site-packages/pandas/util/_decorators.py\u001b[0m in \u001b[0;36mwrapper\u001b[0;34m(*args, **kwargs)\u001b[0m\n\u001b[1;32m    309\u001b[0m                     \u001b[0mstacklevel\u001b[0m\u001b[0;34m=\u001b[0m\u001b[0mstacklevel\u001b[0m\u001b[0;34m,\u001b[0m\u001b[0;34m\u001b[0m\u001b[0;34m\u001b[0m\u001b[0m\n\u001b[1;32m    310\u001b[0m                 )\n\u001b[0;32m--> 311\u001b[0;31m             \u001b[0;32mreturn\u001b[0m \u001b[0mfunc\u001b[0m\u001b[0;34m(\u001b[0m\u001b[0;34m*\u001b[0m\u001b[0margs\u001b[0m\u001b[0;34m,\u001b[0m \u001b[0;34m**\u001b[0m\u001b[0mkwargs\u001b[0m\u001b[0;34m)\u001b[0m\u001b[0;34m\u001b[0m\u001b[0;34m\u001b[0m\u001b[0m\n\u001b[0m\u001b[1;32m    312\u001b[0m \u001b[0;34m\u001b[0m\u001b[0m\n\u001b[1;32m    313\u001b[0m         \u001b[0;32mreturn\u001b[0m \u001b[0mwrapper\u001b[0m\u001b[0;34m\u001b[0m\u001b[0;34m\u001b[0m\u001b[0m\n",
      "\u001b[0;32m~/opt/anaconda3/envs/dev/lib/python3.7/site-packages/pandas/io/parsers/readers.py\u001b[0m in \u001b[0;36mread_csv\u001b[0;34m(filepath_or_buffer, sep, delimiter, header, names, index_col, usecols, squeeze, prefix, mangle_dupe_cols, dtype, engine, converters, true_values, false_values, skipinitialspace, skiprows, skipfooter, nrows, na_values, keep_default_na, na_filter, verbose, skip_blank_lines, parse_dates, infer_datetime_format, keep_date_col, date_parser, dayfirst, cache_dates, iterator, chunksize, compression, thousands, decimal, lineterminator, quotechar, quoting, doublequote, escapechar, comment, encoding, encoding_errors, dialect, error_bad_lines, warn_bad_lines, on_bad_lines, delim_whitespace, low_memory, memory_map, float_precision, storage_options)\u001b[0m\n\u001b[1;32m    584\u001b[0m     \u001b[0mkwds\u001b[0m\u001b[0;34m.\u001b[0m\u001b[0mupdate\u001b[0m\u001b[0;34m(\u001b[0m\u001b[0mkwds_defaults\u001b[0m\u001b[0;34m)\u001b[0m\u001b[0;34m\u001b[0m\u001b[0;34m\u001b[0m\u001b[0m\n\u001b[1;32m    585\u001b[0m \u001b[0;34m\u001b[0m\u001b[0m\n\u001b[0;32m--> 586\u001b[0;31m     \u001b[0;32mreturn\u001b[0m \u001b[0m_read\u001b[0m\u001b[0;34m(\u001b[0m\u001b[0mfilepath_or_buffer\u001b[0m\u001b[0;34m,\u001b[0m \u001b[0mkwds\u001b[0m\u001b[0;34m)\u001b[0m\u001b[0;34m\u001b[0m\u001b[0;34m\u001b[0m\u001b[0m\n\u001b[0m\u001b[1;32m    587\u001b[0m \u001b[0;34m\u001b[0m\u001b[0m\n\u001b[1;32m    588\u001b[0m \u001b[0;34m\u001b[0m\u001b[0m\n",
      "\u001b[0;32m~/opt/anaconda3/envs/dev/lib/python3.7/site-packages/pandas/io/parsers/readers.py\u001b[0m in \u001b[0;36m_read\u001b[0;34m(filepath_or_buffer, kwds)\u001b[0m\n\u001b[1;32m    480\u001b[0m \u001b[0;34m\u001b[0m\u001b[0m\n\u001b[1;32m    481\u001b[0m     \u001b[0;31m# Create the parser.\u001b[0m\u001b[0;34m\u001b[0m\u001b[0;34m\u001b[0m\u001b[0;34m\u001b[0m\u001b[0m\n\u001b[0;32m--> 482\u001b[0;31m     \u001b[0mparser\u001b[0m \u001b[0;34m=\u001b[0m \u001b[0mTextFileReader\u001b[0m\u001b[0;34m(\u001b[0m\u001b[0mfilepath_or_buffer\u001b[0m\u001b[0;34m,\u001b[0m \u001b[0;34m**\u001b[0m\u001b[0mkwds\u001b[0m\u001b[0;34m)\u001b[0m\u001b[0;34m\u001b[0m\u001b[0;34m\u001b[0m\u001b[0m\n\u001b[0m\u001b[1;32m    483\u001b[0m \u001b[0;34m\u001b[0m\u001b[0m\n\u001b[1;32m    484\u001b[0m     \u001b[0;32mif\u001b[0m \u001b[0mchunksize\u001b[0m \u001b[0;32mor\u001b[0m \u001b[0miterator\u001b[0m\u001b[0;34m:\u001b[0m\u001b[0;34m\u001b[0m\u001b[0;34m\u001b[0m\u001b[0m\n",
      "\u001b[0;32m~/opt/anaconda3/envs/dev/lib/python3.7/site-packages/pandas/io/parsers/readers.py\u001b[0m in \u001b[0;36m__init__\u001b[0;34m(self, f, engine, **kwds)\u001b[0m\n\u001b[1;32m    809\u001b[0m             \u001b[0mself\u001b[0m\u001b[0;34m.\u001b[0m\u001b[0moptions\u001b[0m\u001b[0;34m[\u001b[0m\u001b[0;34m\"has_index_names\"\u001b[0m\u001b[0;34m]\u001b[0m \u001b[0;34m=\u001b[0m \u001b[0mkwds\u001b[0m\u001b[0;34m[\u001b[0m\u001b[0;34m\"has_index_names\"\u001b[0m\u001b[0;34m]\u001b[0m\u001b[0;34m\u001b[0m\u001b[0;34m\u001b[0m\u001b[0m\n\u001b[1;32m    810\u001b[0m \u001b[0;34m\u001b[0m\u001b[0m\n\u001b[0;32m--> 811\u001b[0;31m         \u001b[0mself\u001b[0m\u001b[0;34m.\u001b[0m\u001b[0m_engine\u001b[0m \u001b[0;34m=\u001b[0m \u001b[0mself\u001b[0m\u001b[0;34m.\u001b[0m\u001b[0m_make_engine\u001b[0m\u001b[0;34m(\u001b[0m\u001b[0mself\u001b[0m\u001b[0;34m.\u001b[0m\u001b[0mengine\u001b[0m\u001b[0;34m)\u001b[0m\u001b[0;34m\u001b[0m\u001b[0;34m\u001b[0m\u001b[0m\n\u001b[0m\u001b[1;32m    812\u001b[0m \u001b[0;34m\u001b[0m\u001b[0m\n\u001b[1;32m    813\u001b[0m     \u001b[0;32mdef\u001b[0m \u001b[0mclose\u001b[0m\u001b[0;34m(\u001b[0m\u001b[0mself\u001b[0m\u001b[0;34m)\u001b[0m\u001b[0;34m:\u001b[0m\u001b[0;34m\u001b[0m\u001b[0;34m\u001b[0m\u001b[0m\n",
      "\u001b[0;32m~/opt/anaconda3/envs/dev/lib/python3.7/site-packages/pandas/io/parsers/readers.py\u001b[0m in \u001b[0;36m_make_engine\u001b[0;34m(self, engine)\u001b[0m\n\u001b[1;32m   1038\u001b[0m             )\n\u001b[1;32m   1039\u001b[0m         \u001b[0;31m# error: Too many arguments for \"ParserBase\"\u001b[0m\u001b[0;34m\u001b[0m\u001b[0;34m\u001b[0m\u001b[0;34m\u001b[0m\u001b[0m\n\u001b[0;32m-> 1040\u001b[0;31m         \u001b[0;32mreturn\u001b[0m \u001b[0mmapping\u001b[0m\u001b[0;34m[\u001b[0m\u001b[0mengine\u001b[0m\u001b[0;34m]\u001b[0m\u001b[0;34m(\u001b[0m\u001b[0mself\u001b[0m\u001b[0;34m.\u001b[0m\u001b[0mf\u001b[0m\u001b[0;34m,\u001b[0m \u001b[0;34m**\u001b[0m\u001b[0mself\u001b[0m\u001b[0;34m.\u001b[0m\u001b[0moptions\u001b[0m\u001b[0;34m)\u001b[0m  \u001b[0;31m# type: ignore[call-arg]\u001b[0m\u001b[0;34m\u001b[0m\u001b[0;34m\u001b[0m\u001b[0m\n\u001b[0m\u001b[1;32m   1041\u001b[0m \u001b[0;34m\u001b[0m\u001b[0m\n\u001b[1;32m   1042\u001b[0m     \u001b[0;32mdef\u001b[0m \u001b[0m_failover_to_python\u001b[0m\u001b[0;34m(\u001b[0m\u001b[0mself\u001b[0m\u001b[0;34m)\u001b[0m\u001b[0;34m:\u001b[0m\u001b[0;34m\u001b[0m\u001b[0;34m\u001b[0m\u001b[0m\n",
      "\u001b[0;32m~/opt/anaconda3/envs/dev/lib/python3.7/site-packages/pandas/io/parsers/c_parser_wrapper.py\u001b[0m in \u001b[0;36m__init__\u001b[0;34m(self, src, **kwds)\u001b[0m\n\u001b[1;32m     49\u001b[0m \u001b[0;34m\u001b[0m\u001b[0m\n\u001b[1;32m     50\u001b[0m         \u001b[0;31m# open handles\u001b[0m\u001b[0;34m\u001b[0m\u001b[0;34m\u001b[0m\u001b[0;34m\u001b[0m\u001b[0m\n\u001b[0;32m---> 51\u001b[0;31m         \u001b[0mself\u001b[0m\u001b[0;34m.\u001b[0m\u001b[0m_open_handles\u001b[0m\u001b[0;34m(\u001b[0m\u001b[0msrc\u001b[0m\u001b[0;34m,\u001b[0m \u001b[0mkwds\u001b[0m\u001b[0;34m)\u001b[0m\u001b[0;34m\u001b[0m\u001b[0;34m\u001b[0m\u001b[0m\n\u001b[0m\u001b[1;32m     52\u001b[0m         \u001b[0;32massert\u001b[0m \u001b[0mself\u001b[0m\u001b[0;34m.\u001b[0m\u001b[0mhandles\u001b[0m \u001b[0;32mis\u001b[0m \u001b[0;32mnot\u001b[0m \u001b[0;32mNone\u001b[0m\u001b[0;34m\u001b[0m\u001b[0;34m\u001b[0m\u001b[0m\n\u001b[1;32m     53\u001b[0m \u001b[0;34m\u001b[0m\u001b[0m\n",
      "\u001b[0;32m~/opt/anaconda3/envs/dev/lib/python3.7/site-packages/pandas/io/parsers/base_parser.py\u001b[0m in \u001b[0;36m_open_handles\u001b[0;34m(self, src, kwds)\u001b[0m\n\u001b[1;32m    227\u001b[0m             \u001b[0mmemory_map\u001b[0m\u001b[0;34m=\u001b[0m\u001b[0mkwds\u001b[0m\u001b[0;34m.\u001b[0m\u001b[0mget\u001b[0m\u001b[0;34m(\u001b[0m\u001b[0;34m\"memory_map\"\u001b[0m\u001b[0;34m,\u001b[0m \u001b[0;32mFalse\u001b[0m\u001b[0;34m)\u001b[0m\u001b[0;34m,\u001b[0m\u001b[0;34m\u001b[0m\u001b[0;34m\u001b[0m\u001b[0m\n\u001b[1;32m    228\u001b[0m             \u001b[0mstorage_options\u001b[0m\u001b[0;34m=\u001b[0m\u001b[0mkwds\u001b[0m\u001b[0;34m.\u001b[0m\u001b[0mget\u001b[0m\u001b[0;34m(\u001b[0m\u001b[0;34m\"storage_options\"\u001b[0m\u001b[0;34m,\u001b[0m \u001b[0;32mNone\u001b[0m\u001b[0;34m)\u001b[0m\u001b[0;34m,\u001b[0m\u001b[0;34m\u001b[0m\u001b[0;34m\u001b[0m\u001b[0m\n\u001b[0;32m--> 229\u001b[0;31m             \u001b[0merrors\u001b[0m\u001b[0;34m=\u001b[0m\u001b[0mkwds\u001b[0m\u001b[0;34m.\u001b[0m\u001b[0mget\u001b[0m\u001b[0;34m(\u001b[0m\u001b[0;34m\"encoding_errors\"\u001b[0m\u001b[0;34m,\u001b[0m \u001b[0;34m\"strict\"\u001b[0m\u001b[0;34m)\u001b[0m\u001b[0;34m,\u001b[0m\u001b[0;34m\u001b[0m\u001b[0;34m\u001b[0m\u001b[0m\n\u001b[0m\u001b[1;32m    230\u001b[0m         )\n\u001b[1;32m    231\u001b[0m \u001b[0;34m\u001b[0m\u001b[0m\n",
      "\u001b[0;32m~/opt/anaconda3/envs/dev/lib/python3.7/site-packages/pandas/io/common.py\u001b[0m in \u001b[0;36mget_handle\u001b[0;34m(path_or_buf, mode, encoding, compression, memory_map, is_text, errors, storage_options)\u001b[0m\n\u001b[1;32m    705\u001b[0m                 \u001b[0mencoding\u001b[0m\u001b[0;34m=\u001b[0m\u001b[0mioargs\u001b[0m\u001b[0;34m.\u001b[0m\u001b[0mencoding\u001b[0m\u001b[0;34m,\u001b[0m\u001b[0;34m\u001b[0m\u001b[0;34m\u001b[0m\u001b[0m\n\u001b[1;32m    706\u001b[0m                 \u001b[0merrors\u001b[0m\u001b[0;34m=\u001b[0m\u001b[0merrors\u001b[0m\u001b[0;34m,\u001b[0m\u001b[0;34m\u001b[0m\u001b[0;34m\u001b[0m\u001b[0m\n\u001b[0;32m--> 707\u001b[0;31m                 \u001b[0mnewline\u001b[0m\u001b[0;34m=\u001b[0m\u001b[0;34m\"\"\u001b[0m\u001b[0;34m,\u001b[0m\u001b[0;34m\u001b[0m\u001b[0;34m\u001b[0m\u001b[0m\n\u001b[0m\u001b[1;32m    708\u001b[0m             )\n\u001b[1;32m    709\u001b[0m         \u001b[0;32melse\u001b[0m\u001b[0;34m:\u001b[0m\u001b[0;34m\u001b[0m\u001b[0;34m\u001b[0m\u001b[0m\n",
      "\u001b[0;31mFileNotFoundError\u001b[0m: [Errno 2] No such file or directory: 'Resources/F-F_Momentum_Factor_daily.csv'"
     ]
    }
   ],
   "source": [
    "# Read in Momentum factor data from CSV included in Resources folder of this repo.\n",
    "# Note: as per this notebook, using Momentum as a factor can be turned on and off with hashes in applicable cells.\n",
    "# This notebook is set up to use it or not use it, depending on user preference.\n",
    "# Across a number of time periods, we have not found it to be a significant factor with BTC.\n",
    "\n",
    "momentum_factor = pd.read_csv(\n",
    "    Path(\"./Resources/F-F_Momentum_Factor_daily.csv\"),\n",
    "    header=None\n",
    ")\n",
    "\n",
    "momentum_factor"
   ]
  },
  {
   "cell_type": "code",
   "execution_count": null,
   "id": "fbfa095e-a7a7-4ab9-bc57-18a9ceba66a2",
   "metadata": {},
   "outputs": [],
   "source": [
    "# Asssign column names\n",
    "\n",
    "momentum_factor.columns = [\"Date\", \"Mom\"]\n",
    "momentum_factor.columns"
   ]
  },
  {
   "cell_type": "code",
   "execution_count": null,
   "id": "a149041b-9be5-4ab9-8e7e-8e05a89d6ef8",
   "metadata": {},
   "outputs": [],
   "source": [
    "# Choose select dates \n",
    "\n",
    "momentum_factor = momentum_factor.loc[\n",
    "    (momentum_factor[\"Date\"] >= \"20220101\")\n",
    "   & (momentum_factor[\"Date\"] <= \"20220331\")\n",
    "]"
   ]
  },
  {
   "cell_type": "code",
   "execution_count": null,
   "id": "d7214a0c-b122-4fa4-84fc-9213702ed0e2",
   "metadata": {},
   "outputs": [],
   "source": [
    "display(momentum_factor.head())\n",
    "momentum_factor.tail()"
   ]
  },
  {
   "cell_type": "code",
   "execution_count": null,
   "id": "8941dce8-eaf0-469c-9e6d-2faabe2d4429",
   "metadata": {},
   "outputs": [],
   "source": [
    "# Set index\n",
    "\n",
    "momentum_factor.set_index(\"Date\")"
   ]
  },
  {
   "cell_type": "code",
   "execution_count": null,
   "id": "1aeae0a9-634a-4c49-b006-fd8f09e093b6",
   "metadata": {},
   "outputs": [],
   "source": [
    "# Drop NaNs\n",
    "\n",
    "momentum_factor = momentum_factor.dropna()\n",
    "momentum_factor.shape"
   ]
  },
  {
   "cell_type": "code",
   "execution_count": null,
   "id": "87387e77-b857-4c62-b6dc-29512d8e9bdb",
   "metadata": {},
   "outputs": [],
   "source": [
    "# Divide by 100 (because inputted Mom column is in percentages).\n",
    "\n",
    "momentum_factor[\"Mom\"] = momentum_factor[\"Mom\"]/100  \n",
    "momentum_factor.head()"
   ]
  },
  {
   "cell_type": "code",
   "execution_count": null,
   "id": "dc97f6d4-0138-47dc-b92e-e93d088b5e0e",
   "metadata": {},
   "outputs": [],
   "source": [
    "# Set index to the index of ff3_daily dataframe.\n",
    "\n",
    "momentum_factor.index = ff3_daily.index"
   ]
  },
  {
   "cell_type": "code",
   "execution_count": null,
   "id": "2146ed77-c55e-42d7-a5b3-1eae0e1afabd",
   "metadata": {},
   "outputs": [],
   "source": [
    "# Drop extra column\n",
    "\n",
    "momentum_factor.drop(columns=\"Date\", inplace=True)\n",
    "momentum_factor"
   ]
  },
  {
   "cell_type": "code",
   "execution_count": 11,
   "id": "2b53d8c1-f07f-4f8d-b87d-cc7a120fd1a5",
   "metadata": {},
   "outputs": [
    {
     "data": {
      "text/html": [
       "<div>\n",
       "<style scoped>\n",
       "    .dataframe tbody tr th:only-of-type {\n",
       "        vertical-align: middle;\n",
       "    }\n",
       "\n",
       "    .dataframe tbody tr th {\n",
       "        vertical-align: top;\n",
       "    }\n",
       "\n",
       "    .dataframe thead th {\n",
       "        text-align: right;\n",
       "    }\n",
       "</style>\n",
       "<table border=\"1\" class=\"dataframe\">\n",
       "  <thead>\n",
       "    <tr style=\"text-align: right;\">\n",
       "      <th></th>\n",
       "      <th>Mkt-RF</th>\n",
       "      <th>SMB</th>\n",
       "      <th>HML</th>\n",
       "      <th>RF</th>\n",
       "      <th>BTC-USD</th>\n",
       "    </tr>\n",
       "    <tr>\n",
       "      <th>Date</th>\n",
       "      <th></th>\n",
       "      <th></th>\n",
       "      <th></th>\n",
       "      <th></th>\n",
       "      <th></th>\n",
       "    </tr>\n",
       "  </thead>\n",
       "  <tbody>\n",
       "    <tr>\n",
       "      <th>2022-01-03</th>\n",
       "      <td>0.0073</td>\n",
       "      <td>0.0032</td>\n",
       "      <td>0.0079</td>\n",
       "      <td>0.0</td>\n",
       "      <td>-0.018737</td>\n",
       "    </tr>\n",
       "    <tr>\n",
       "      <th>2022-01-04</th>\n",
       "      <td>-0.0029</td>\n",
       "      <td>-0.0081</td>\n",
       "      <td>0.0362</td>\n",
       "      <td>0.0</td>\n",
       "      <td>-0.012066</td>\n",
       "    </tr>\n",
       "    <tr>\n",
       "      <th>2022-01-05</th>\n",
       "      <td>-0.0228</td>\n",
       "      <td>-0.0146</td>\n",
       "      <td>0.0260</td>\n",
       "      <td>0.0</td>\n",
       "      <td>-0.050734</td>\n",
       "    </tr>\n",
       "    <tr>\n",
       "      <th>2022-01-06</th>\n",
       "      <td>0.0000</td>\n",
       "      <td>0.0021</td>\n",
       "      <td>0.0175</td>\n",
       "      <td>0.0</td>\n",
       "      <td>-0.009366</td>\n",
       "    </tr>\n",
       "    <tr>\n",
       "      <th>2022-01-07</th>\n",
       "      <td>-0.0048</td>\n",
       "      <td>-0.0132</td>\n",
       "      <td>0.0202</td>\n",
       "      <td>0.0</td>\n",
       "      <td>-0.037141</td>\n",
       "    </tr>\n",
       "  </tbody>\n",
       "</table>\n",
       "</div>"
      ],
      "text/plain": [
       "            Mkt-RF     SMB     HML   RF   BTC-USD\n",
       "Date                                             \n",
       "2022-01-03  0.0073  0.0032  0.0079  0.0 -0.018737\n",
       "2022-01-04 -0.0029 -0.0081  0.0362  0.0 -0.012066\n",
       "2022-01-05 -0.0228 -0.0146  0.0260  0.0 -0.050734\n",
       "2022-01-06  0.0000  0.0021  0.0175  0.0 -0.009366\n",
       "2022-01-07 -0.0048 -0.0132  0.0202  0.0 -0.037141"
      ]
     },
     "metadata": {},
     "output_type": "display_data"
    },
    {
     "data": {
      "text/html": [
       "<div>\n",
       "<style scoped>\n",
       "    .dataframe tbody tr th:only-of-type {\n",
       "        vertical-align: middle;\n",
       "    }\n",
       "\n",
       "    .dataframe tbody tr th {\n",
       "        vertical-align: top;\n",
       "    }\n",
       "\n",
       "    .dataframe thead th {\n",
       "        text-align: right;\n",
       "    }\n",
       "</style>\n",
       "<table border=\"1\" class=\"dataframe\">\n",
       "  <thead>\n",
       "    <tr style=\"text-align: right;\">\n",
       "      <th></th>\n",
       "      <th>Mkt-RF</th>\n",
       "      <th>SMB</th>\n",
       "      <th>HML</th>\n",
       "      <th>RF</th>\n",
       "      <th>BTC-USD</th>\n",
       "    </tr>\n",
       "    <tr>\n",
       "      <th>Date</th>\n",
       "      <th></th>\n",
       "      <th></th>\n",
       "      <th></th>\n",
       "      <th></th>\n",
       "      <th></th>\n",
       "    </tr>\n",
       "  </thead>\n",
       "  <tbody>\n",
       "    <tr>\n",
       "      <th>2022-03-25</th>\n",
       "      <td>0.0027</td>\n",
       "      <td>-0.0059</td>\n",
       "      <td>0.0217</td>\n",
       "      <td>0.0</td>\n",
       "      <td>0.008821</td>\n",
       "    </tr>\n",
       "    <tr>\n",
       "      <th>2022-03-28</th>\n",
       "      <td>0.0073</td>\n",
       "      <td>-0.0055</td>\n",
       "      <td>-0.0169</td>\n",
       "      <td>0.0</td>\n",
       "      <td>0.006568</td>\n",
       "    </tr>\n",
       "    <tr>\n",
       "      <th>2022-03-29</th>\n",
       "      <td>0.0145</td>\n",
       "      <td>0.0154</td>\n",
       "      <td>-0.0192</td>\n",
       "      <td>0.0</td>\n",
       "      <td>0.007166</td>\n",
       "    </tr>\n",
       "    <tr>\n",
       "      <th>2022-03-30</th>\n",
       "      <td>-0.0083</td>\n",
       "      <td>-0.0128</td>\n",
       "      <td>0.0039</td>\n",
       "      <td>0.0</td>\n",
       "      <td>-0.008492</td>\n",
       "    </tr>\n",
       "    <tr>\n",
       "      <th>2022-03-31</th>\n",
       "      <td>-0.0155</td>\n",
       "      <td>0.0071</td>\n",
       "      <td>-0.0044</td>\n",
       "      <td>0.0</td>\n",
       "      <td>-0.032382</td>\n",
       "    </tr>\n",
       "  </tbody>\n",
       "</table>\n",
       "</div>"
      ],
      "text/plain": [
       "            Mkt-RF     SMB     HML   RF   BTC-USD\n",
       "Date                                             \n",
       "2022-03-25  0.0027 -0.0059  0.0217  0.0  0.008821\n",
       "2022-03-28  0.0073 -0.0055 -0.0169  0.0  0.006568\n",
       "2022-03-29  0.0145  0.0154 -0.0192  0.0  0.007166\n",
       "2022-03-30 -0.0083 -0.0128  0.0039  0.0 -0.008492\n",
       "2022-03-31 -0.0155  0.0071 -0.0044  0.0 -0.032382"
      ]
     },
     "execution_count": 11,
     "metadata": {},
     "output_type": "execute_result"
    }
   ],
   "source": [
    "# Merging FF3 daily facotr data with BTC daily return data into one dataframe\n",
    "\n",
    "regress_data = ff3_daily.merge(btc_dreturns, on=\"Date\")  \n",
    "display(regress_data.head())\n",
    "regress_data.tail()"
   ]
  },
  {
   "cell_type": "code",
   "execution_count": 12,
   "id": "965e39dc-23d6-436c-873f-25406f883101",
   "metadata": {},
   "outputs": [],
   "source": [
    "# Merging combined FF3 daily factor and BTC daily returns data with Momentum daily factor data\n",
    "\n",
    "#regress_data = data.merge(momentum_factor, on=\"Date\")  \n",
    "#regress_data = regress_data[[\"Mkt-RF\", \"SMB\", \"HML\", \"Mom\", \"RF\", \"BTC-USD\"]] #ordering columns\n",
    "#display(regress_data.head())\n",
    "#regress_data.tail()"
   ]
  },
  {
   "cell_type": "code",
   "execution_count": 13,
   "id": "6af472d3-f61d-491d-8e88-0606ca6cee40",
   "metadata": {},
   "outputs": [
    {
     "data": {
      "text/html": [
       "<div>\n",
       "<style scoped>\n",
       "    .dataframe tbody tr th:only-of-type {\n",
       "        vertical-align: middle;\n",
       "    }\n",
       "\n",
       "    .dataframe tbody tr th {\n",
       "        vertical-align: top;\n",
       "    }\n",
       "\n",
       "    .dataframe thead th {\n",
       "        text-align: right;\n",
       "    }\n",
       "</style>\n",
       "<table border=\"1\" class=\"dataframe\">\n",
       "  <thead>\n",
       "    <tr style=\"text-align: right;\">\n",
       "      <th></th>\n",
       "      <th>Mkt-RF</th>\n",
       "      <th>SMB</th>\n",
       "      <th>HML</th>\n",
       "      <th>RF</th>\n",
       "      <th>BTC-USD</th>\n",
       "      <th>BTC-RF</th>\n",
       "    </tr>\n",
       "    <tr>\n",
       "      <th>Date</th>\n",
       "      <th></th>\n",
       "      <th></th>\n",
       "      <th></th>\n",
       "      <th></th>\n",
       "      <th></th>\n",
       "      <th></th>\n",
       "    </tr>\n",
       "  </thead>\n",
       "  <tbody>\n",
       "    <tr>\n",
       "      <th>2022-01-03</th>\n",
       "      <td>0.0073</td>\n",
       "      <td>0.0032</td>\n",
       "      <td>0.0079</td>\n",
       "      <td>0.0</td>\n",
       "      <td>-0.018737</td>\n",
       "      <td>-0.018737</td>\n",
       "    </tr>\n",
       "    <tr>\n",
       "      <th>2022-01-04</th>\n",
       "      <td>-0.0029</td>\n",
       "      <td>-0.0081</td>\n",
       "      <td>0.0362</td>\n",
       "      <td>0.0</td>\n",
       "      <td>-0.012066</td>\n",
       "      <td>-0.012066</td>\n",
       "    </tr>\n",
       "    <tr>\n",
       "      <th>2022-01-05</th>\n",
       "      <td>-0.0228</td>\n",
       "      <td>-0.0146</td>\n",
       "      <td>0.0260</td>\n",
       "      <td>0.0</td>\n",
       "      <td>-0.050734</td>\n",
       "      <td>-0.050734</td>\n",
       "    </tr>\n",
       "    <tr>\n",
       "      <th>2022-01-06</th>\n",
       "      <td>0.0000</td>\n",
       "      <td>0.0021</td>\n",
       "      <td>0.0175</td>\n",
       "      <td>0.0</td>\n",
       "      <td>-0.009366</td>\n",
       "      <td>-0.009366</td>\n",
       "    </tr>\n",
       "    <tr>\n",
       "      <th>2022-01-07</th>\n",
       "      <td>-0.0048</td>\n",
       "      <td>-0.0132</td>\n",
       "      <td>0.0202</td>\n",
       "      <td>0.0</td>\n",
       "      <td>-0.037141</td>\n",
       "      <td>-0.037141</td>\n",
       "    </tr>\n",
       "  </tbody>\n",
       "</table>\n",
       "</div>"
      ],
      "text/plain": [
       "            Mkt-RF     SMB     HML   RF   BTC-USD    BTC-RF\n",
       "Date                                                       \n",
       "2022-01-03  0.0073  0.0032  0.0079  0.0 -0.018737 -0.018737\n",
       "2022-01-04 -0.0029 -0.0081  0.0362  0.0 -0.012066 -0.012066\n",
       "2022-01-05 -0.0228 -0.0146  0.0260  0.0 -0.050734 -0.050734\n",
       "2022-01-06  0.0000  0.0021  0.0175  0.0 -0.009366 -0.009366\n",
       "2022-01-07 -0.0048 -0.0132  0.0202  0.0 -0.037141 -0.037141"
      ]
     },
     "execution_count": 13,
     "metadata": {},
     "output_type": "execute_result"
    }
   ],
   "source": [
    "# Subtracting risk-free return rate from BTC's daily returns and creating a new column to store the result\n",
    "\n",
    "regress_data[\"BTC-RF\"] = regress_data[\"BTC-USD\"] - regress_data[\"RF\"]\n",
    "regress_data.head()"
   ]
  },
  {
   "cell_type": "markdown",
   "id": "ae875c0a-a57d-4e14-8089-ee7cf0bbc484",
   "metadata": {},
   "source": [
    "# SECTION II: REGRESSION"
   ]
  },
  {
   "cell_type": "code",
   "execution_count": 14,
   "id": "877c67aa-35e6-4270-bc56-e5ae90e321e4",
   "metadata": {},
   "outputs": [
    {
     "data": {
      "text/plain": [
       "<AxesSubplot:xlabel='Mkt-RF', ylabel='BTC-RF'>"
      ]
     },
     "execution_count": 14,
     "metadata": {},
     "output_type": "execute_result"
    },
    {
     "data": {
      "image/png": "[encoded data removed]",
      "text/plain": [
       "<Figure size 432x288 with 1 Axes>"
      ]
     },
     "metadata": {
      "needs_background": "light"
     },
     "output_type": "display_data"
    }
   ],
   "source": [
    "# Checking relationships between two variables graphically using seaborn regplot. Scatter plot shows excess returns on the market versus excess returns on BTC.\n",
    "\n",
    "sns.regplot(x=\"Mkt-RF\", y=\"BTC-RF\", data=regress_data) "
   ]
  },
  {
   "cell_type": "code",
   "execution_count": 15,
   "id": "ccafc116-890d-4ce8-ae3a-f91b3834be1b",
   "metadata": {},
   "outputs": [
    {
     "data": {
      "text/html": [
       "<table class=\"simpletable\">\n",
       "<caption>OLS Regression Results</caption>\n",
       "<tr>\n",
       "  <th>Dep. Variable:</th>         <td>BTC-RF</td>      <th>  R-squared:         </th> <td>   0.230</td>\n",
       "</tr>\n",
       "<tr>\n",
       "  <th>Model:</th>                   <td>OLS</td>       <th>  Adj. R-squared:    </th> <td>   0.190</td>\n",
       "</tr>\n",
       "<tr>\n",
       "  <th>Method:</th>             <td>Least Squares</td>  <th>  F-statistic:       </th> <td>   5.762</td>\n",
       "</tr>\n",
       "<tr>\n",
       "  <th>Date:</th>             <td>Sun, 15 May 2022</td> <th>  Prob (F-statistic):</th>  <td>0.00161</td>\n",
       "</tr>\n",
       "<tr>\n",
       "  <th>Time:</th>                 <td>17:13:27</td>     <th>  Log-Likelihood:    </th> <td>  120.23</td>\n",
       "</tr>\n",
       "<tr>\n",
       "  <th>No. Observations:</th>      <td>    62</td>      <th>  AIC:               </th> <td>  -232.5</td>\n",
       "</tr>\n",
       "<tr>\n",
       "  <th>Df Residuals:</th>          <td>    58</td>      <th>  BIC:               </th> <td>  -224.0</td>\n",
       "</tr>\n",
       "<tr>\n",
       "  <th>Df Model:</th>              <td>     3</td>      <th>                     </th>     <td> </td>   \n",
       "</tr>\n",
       "<tr>\n",
       "  <th>Covariance Type:</th>      <td>nonrobust</td>    <th>                     </th>     <td> </td>   \n",
       "</tr>\n",
       "</table>\n",
       "<table class=\"simpletable\">\n",
       "<tr>\n",
       "     <td></td>       <th>coef</th>     <th>std err</th>      <th>t</th>      <th>P>|t|</th>  <th>[0.025</th>    <th>0.975]</th>  \n",
       "</tr>\n",
       "<tr>\n",
       "  <th>const</th>  <td>    0.0038</td> <td>    0.005</td> <td>    0.813</td> <td> 0.419</td> <td>   -0.006</td> <td>    0.013</td>\n",
       "</tr>\n",
       "<tr>\n",
       "  <th>Mkt-RF</th> <td>    0.9763</td> <td>    0.417</td> <td>    2.343</td> <td> 0.023</td> <td>    0.142</td> <td>    1.811</td>\n",
       "</tr>\n",
       "<tr>\n",
       "  <th>SMB</th>    <td>    0.2639</td> <td>    0.679</td> <td>    0.389</td> <td> 0.699</td> <td>   -1.095</td> <td>    1.622</td>\n",
       "</tr>\n",
       "<tr>\n",
       "  <th>HML</th>    <td>   -0.3382</td> <td>    0.433</td> <td>   -0.780</td> <td> 0.438</td> <td>   -1.206</td> <td>    0.529</td>\n",
       "</tr>\n",
       "</table>\n",
       "<table class=\"simpletable\">\n",
       "<tr>\n",
       "  <th>Omnibus:</th>       <td>21.436</td> <th>  Durbin-Watson:     </th> <td>   1.743</td>\n",
       "</tr>\n",
       "<tr>\n",
       "  <th>Prob(Omnibus):</th> <td> 0.000</td> <th>  Jarque-Bera (JB):  </th> <td>  46.292</td>\n",
       "</tr>\n",
       "<tr>\n",
       "  <th>Skew:</th>          <td> 1.039</td> <th>  Prob(JB):          </th> <td>8.87e-11</td>\n",
       "</tr>\n",
       "<tr>\n",
       "  <th>Kurtosis:</th>      <td> 6.688</td> <th>  Cond. No.          </th> <td>    155.</td>\n",
       "</tr>\n",
       "</table><br/><br/>Notes:<br/>[1] Standard Errors assume that the covariance matrix of the errors is correctly specified."
      ],
      "text/plain": [
       "<class 'statsmodels.iolib.summary.Summary'>\n",
       "\"\"\"\n",
       "                            OLS Regression Results                            \n",
       "==============================================================================\n",
       "Dep. Variable:                 BTC-RF   R-squared:                       0.230\n",
       "Model:                            OLS   Adj. R-squared:                  0.190\n",
       "Method:                 Least Squares   F-statistic:                     5.762\n",
       "Date:                Sun, 15 May 2022   Prob (F-statistic):            0.00161\n",
       "Time:                        17:13:27   Log-Likelihood:                 120.23\n",
       "No. Observations:                  62   AIC:                            -232.5\n",
       "Df Residuals:                      58   BIC:                            -224.0\n",
       "Df Model:                           3                                         \n",
       "Covariance Type:            nonrobust                                         \n",
       "==============================================================================\n",
       "                 coef    std err          t      P>|t|      [0.025      0.975]\n",
       "------------------------------------------------------------------------------\n",
       "const          0.0038      0.005      0.813      0.419      -0.006       0.013\n",
       "Mkt-RF         0.9763      0.417      2.343      0.023       0.142       1.811\n",
       "SMB            0.2639      0.679      0.389      0.699      -1.095       1.622\n",
       "HML           -0.3382      0.433     -0.780      0.438      -1.206       0.529\n",
       "==============================================================================\n",
       "Omnibus:                       21.436   Durbin-Watson:                   1.743\n",
       "Prob(Omnibus):                  0.000   Jarque-Bera (JB):               46.292\n",
       "Skew:                           1.039   Prob(JB):                     8.87e-11\n",
       "Kurtosis:                       6.688   Cond. No.                         155.\n",
       "==============================================================================\n",
       "\n",
       "Notes:\n",
       "[1] Standard Errors assume that the covariance matrix of the errors is correctly specified.\n",
       "\"\"\""
      ]
     },
     "execution_count": 15,
     "metadata": {},
     "output_type": "execute_result"
    }
   ],
   "source": [
    "# Set up OLS regression using Fama French 3-Factors\n",
    "\n",
    "X = regress_data[[\"Mkt-RF\", \"SMB\", \"HML\"]]  #the independent variables     \n",
    "# X = regress_data[[\"Mkt-RF\", \"SMB\", \"HML\", \"Mom\"]] #the independent variables for 4 factors\n",
    "y = regress_data[\"BTC-RF\"]  #the dependent variable\n",
    "\n",
    "X1 = sm.add_constant(X) #defining the constant\n",
    "model = sm.OLS(y, X1)\n",
    "\n",
    "results = model.fit() #fitting the model\n",
    "results.summary()"
   ]
  },
  {
   "cell_type": "code",
   "execution_count": 16,
   "id": "66e0924c-1a0c-4b2f-a897-22971081727a",
   "metadata": {},
   "outputs": [],
   "source": [
    "#Note: The Prob (F-statistic) depicts probability of the null hypothesis being true, and can be thought of as the p-value for the \n",
    "#regression as a whole. Our F-statistic of effectively 0 implies that overall the regressions were significant.\n",
    "\n",
    "#Last thing are the coefficients and the p-values for the X variables. The coefficients tell you the size of the effect that \n",
    "#the variable is having on the dependent variable when all other independent variables are held constant. Here, only the Mk-RF\n",
    "#coefficient has a statistically significant p-value; the others are not statistically significant."
   ]
  },
  {
   "cell_type": "code",
   "execution_count": 17,
   "id": "a0b39fe4-47b9-4bda-bbe2-5c32810be66c",
   "metadata": {},
   "outputs": [
    {
     "name": "stdout",
     "output_type": "stream",
     "text": [
      "0.9763438115749374 0.26391634587601676 -0.33819278836274547\n"
     ]
    }
   ],
   "source": [
    "# Saving the coefficients, which tell us how much exposure BTC has to the market, size, value, and momentum. \n",
    "# Note on Fama French Factors: There is some systematic risk due to size, value (book equity to market equity), and momementum of \n",
    "# stocks (stock risks are multidimensional).\n",
    "\n",
    "intercept, beta_m, beta_s, beta_v = results.params  \n",
    "#intercept, beta_m, beta_s, beta_v, beta_mom = results.params   #for 4 factors\n",
    "print(beta_m, beta_s, beta_v)\n",
    "# print(beta_m, beta_s, beta_v, beta_mom)   #for 4 factors"
   ]
  },
  {
   "cell_type": "code",
   "execution_count": 18,
   "id": "1e5b1ca6-d93a-4525-96ff-bbf76c06f0c5",
   "metadata": {},
   "outputs": [
    {
     "data": {
      "text/plain": [
       "0.0"
      ]
     },
     "execution_count": 18,
     "metadata": {},
     "output_type": "execute_result"
    }
   ],
   "source": [
    "# Getting average risk free rate\n",
    "\n",
    "risk_free = regress_data[\"RF\"].mean()\n",
    "risk_free"
   ]
  },
  {
   "cell_type": "code",
   "execution_count": 19,
   "id": "1286bc58-8d69-4df4-94f6-3324ec458f76",
   "metadata": {},
   "outputs": [
    {
     "name": "stdout",
     "output_type": "stream",
     "text": [
      "-0.0008177419354838711 -0.0008387096774193552 0.0022370967741935496\n"
     ]
    }
   ],
   "source": [
    "# Calculating expected excess return of the market (the market risk premium). \n",
    "# Calculating expected excess return due to size (the size risk premium).\n",
    "# Calculating expected excess return due to value (the value risk premium).\n",
    "# Calculating expected excess return due to momentum (the momentum risk premium).\n",
    "\n",
    "market_premium = regress_data[\"Mkt-RF\"].mean()\n",
    "size_premium = regress_data[\"SMB\"].mean()\n",
    "value_premium = regress_data[\"HML\"].mean()\n",
    "#momentum_premium = regress_data[\"Mom\"].mean()  #use for 4 factors\n",
    "\n",
    "print(market_premium, size_premium, value_premium)  #monthly premiums, shows how market, size, value, momentum yield premiums\n",
    "#print(market_premium, size_premium, value_premium, momentum_premium) #use for 4 factors"
   ]
  },
  {
   "cell_type": "code",
   "execution_count": 20,
   "id": "2549a65d-dae6-4918-9f1a-7a1ccb79f169",
   "metadata": {},
   "outputs": [
    {
     "name": "stdout",
     "output_type": "stream",
     "text": [
      "Using the Fama French Four Factor model, the expected daily return of Bitcoin is: %0.19894484127188533.\n",
      "Using the Fama French Four Factor model, the expected annual return of Bitcoin is: %50.134100000515105.\n"
     ]
    }
   ],
   "source": [
    "#Compute expected return of BTC \n",
    "\n",
    "btc_exp_return = intercept + risk_free + (beta_m * market_premium) + (beta_s * size_premium) + (beta_v * value_premium) \n",
    "#btc_exp_return = risk_free + (beta_m * market_premium) + (beta_s * size_premium) + (beta_v * value_premium) + (beta_mom * momentum_premium) #use for 4 factors\n",
    "\n",
    "btc_exp_yr_return = btc_exp_return * 252\n",
    "\n",
    "print(f\"Using the Fama French Four Factor model, the expected daily return of Bitcoin is: %{btc_exp_return*100}.\")\n",
    "print(f\"Using the Fama French Four Factor model, the expected annual return of Bitcoin is: %{btc_exp_yr_return*100}.\")"
   ]
  },
  {
   "cell_type": "markdown",
   "id": "deb7ef64-7682-454f-b488-ef9dcdb196d6",
   "metadata": {},
   "source": [
    "# SECTION III: TRAINING AND TESTING THE DATA"
   ]
  },
  {
   "cell_type": "code",
   "execution_count": 21,
   "id": "6a75144e-ccc3-44d2-aff4-b0782482f9da",
   "metadata": {},
   "outputs": [],
   "source": [
    "# Split data into training data (80%) and test data (20%)\n",
    "\n",
    "X_train, X_test, y_train, y_test = train_test_split(X, y, test_size=.2, random_state=0)"
   ]
  },
  {
   "cell_type": "code",
   "execution_count": 22,
   "id": "6a790e62-8f61-4ad7-b079-c4e220319f38",
   "metadata": {},
   "outputs": [],
   "source": [
    "# Instantiate\n",
    "\n",
    "model = LinearRegression()"
   ]
  },
  {
   "cell_type": "code",
   "execution_count": 23,
   "id": "51cd1528-b744-43dd-b462-e1a099fa871c",
   "metadata": {},
   "outputs": [
    {
     "data": {
      "text/plain": [
       "LinearRegression()"
      ]
     },
     "execution_count": 23,
     "metadata": {},
     "output_type": "execute_result"
    }
   ],
   "source": [
    "# Fit\n",
    "\n",
    "model.fit(X_train, y_train)"
   ]
  },
  {
   "cell_type": "code",
   "execution_count": 24,
   "id": "5076828e-d1d0-4423-868d-e10fe5c5e566",
   "metadata": {},
   "outputs": [],
   "source": [
    "# Predict\n",
    "\n",
    "y_pred = model.predict(X_test)"
   ]
  },
  {
   "cell_type": "code",
   "execution_count": 25,
   "id": "ee27a97d-3d86-4456-affe-0dde27378e5c",
   "metadata": {
    "tags": []
   },
   "outputs": [
    {
     "name": "stdout",
     "output_type": "stream",
     "text": [
      "Your model will correctly predict the price of Bitcoin 41.22% of the time.\n",
      "Or in other words, 41.22% of BTC's excess return on the market is explained by these factors.\n"
     ]
    }
   ],
   "source": [
    "# Model evaluation\n",
    "\n",
    "score = r2_score(y_test, y_pred)\n",
    "percent_score = round((score * 100), 2)\n",
    "\n",
    "print(f\"Your model will correctly predict the price of Bitcoin {percent_score}% of the time.\")\n",
    "print(f\"Or in other words, {percent_score}% of BTC's excess return on the market is explained by these factors.\")"
   ]
  },
  {
   "cell_type": "code",
   "execution_count": null,
   "id": "a8133987-df01-499b-ac48-383641bd3165",
   "metadata": {},
   "outputs": [],
   "source": []
  }
 ],
 "metadata": {
  "kernelspec": {
   "display_name": "Python 3 (ipykernel)",
   "language": "python",
   "name": "python3"
  },
  "language_info": {
   "codemirror_mode": {
    "name": "ipython",
    "version": 3
   },
   "file_extension": ".py",
   "mimetype": "text/x-python",
   "name": "python",
   "nbconvert_exporter": "python",
   "pygments_lexer": "ipython3",
   "version": "3.7.13"
  }
 },
 "nbformat": 4,
 "nbformat_minor": 5
}
