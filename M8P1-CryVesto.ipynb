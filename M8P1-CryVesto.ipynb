{
 "cells": [
  {
   "cell_type": "markdown",
   "id": "6dd1b7b1-262f-4eed-a35a-2d5fccaabc28",
   "metadata": {},
   "source": [
    "###Mod8 Project 1: CryVesto###"
   ]
  },
  {
   "cell_type": "code",
   "execution_count": 2,
   "id": "48f63281-a5ac-4639-a403-975460328c6b",
   "metadata": {},
   "outputs": [],
   "source": [
    "#Imports for Analysis Program:\n",
    "from pathlib import Path\n",
    "import pandas as pd\n",
    "import numpy as np\n",
    "import os\n",
    "from dotenv import load_dotenv\n",
    "import hvplot.pandas\n"
   ]
  },
  {
   "cell_type": "code",
   "execution_count": null,
   "id": "c07b43fd-8a02-459a-9081-801c03fcc369",
   "metadata": {},
   "outputs": [],
   "source": []
  }
 ],
 "metadata": {
  "kernelspec": {
   "display_name": "dev",
   "language": "python",
   "name": "dev"
  },
  "language_info": {
   "codemirror_mode": {
    "name": "ipython",
    "version": 3
   },
   "file_extension": ".py",
   "mimetype": "text/x-python",
   "name": "python",
   "nbconvert_exporter": "python",
   "pygments_lexer": "ipython3",
   "version": "3.9.7"
  }
 },
 "nbformat": 4,
 "nbformat_minor": 5
}
