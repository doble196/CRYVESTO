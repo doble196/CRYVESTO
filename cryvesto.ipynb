{
 "cells": [
  {
   "cell_type": "code",
   "execution_count": 1,
   "id": "7971677f-9471-4529-ac44-d112e6ce85ee",
   "metadata": {},
   "outputs": [
    {
     "ename": "ModuleNotFoundError",
     "evalue": "No module named 'pandas_datareader'",
     "output_type": "error",
     "traceback": [
      "\u001b[0;31m---------------------------------------------------------------------------\u001b[0m",
      "\u001b[0;31mModuleNotFoundError\u001b[0m                       Traceback (most recent call last)",
      "\u001b[0;32m/var/folders/gx/8f8jgv9s2k354vxkndhs4k9r0000gp/T/ipykernel_91167/3397927418.py\u001b[0m in \u001b[0;36m<module>\u001b[0;34m\u001b[0m\n\u001b[1;32m      1\u001b[0m \u001b[0;32mimport\u001b[0m \u001b[0mpandas\u001b[0m \u001b[0;32mas\u001b[0m \u001b[0mpd\u001b[0m\u001b[0;34m\u001b[0m\u001b[0;34m\u001b[0m\u001b[0m\n\u001b[0;32m----> 2\u001b[0;31m \u001b[0;32mimport\u001b[0m \u001b[0mpandas_datareader\u001b[0m \u001b[0;32mas\u001b[0m \u001b[0mpdr\u001b[0m\u001b[0;34m\u001b[0m\u001b[0;34m\u001b[0m\u001b[0m\n\u001b[0m\u001b[1;32m      3\u001b[0m \u001b[0;32mimport\u001b[0m \u001b[0mdatetime\u001b[0m \u001b[0;32mas\u001b[0m \u001b[0mdt\u001b[0m\u001b[0;34m\u001b[0m\u001b[0;34m\u001b[0m\u001b[0m\n\u001b[1;32m      4\u001b[0m \u001b[0;32mimport\u001b[0m \u001b[0myfinance\u001b[0m \u001b[0;32mas\u001b[0m \u001b[0myf\u001b[0m\u001b[0;34m\u001b[0m\u001b[0;34m\u001b[0m\u001b[0m\n\u001b[1;32m      5\u001b[0m \u001b[0;32mimport\u001b[0m \u001b[0mhvplot\u001b[0m\u001b[0;34m.\u001b[0m\u001b[0mpandas\u001b[0m\u001b[0;34m\u001b[0m\u001b[0;34m\u001b[0m\u001b[0m\n",
      "\u001b[0;31mModuleNotFoundError\u001b[0m: No module named 'pandas_datareader'"
     ]
    }
   ],
   "source": [
    "import pandas as pd\n",
    "import pandas_datareader as pdr\n",
    "import datetime as dt\n",
    "import yfinance as yf\n",
    "import hvplot.pandas\n",
    "from pathlib import Path\n",
    "import csv"
   ]
  },
  {
   "cell_type": "code",
   "execution_count": null,
   "id": "df528d8f-b206-4181-928f-d3b524b4eae7",
   "metadata": {},
   "outputs": [],
   "source": [
    "# Top 10 Crypto Coin Yahoo Finance Tickers\n",
    "tickers = ['BNB-USD','BTC-USD','XRP-USD','SOL-USD','LUNA-USD','ADA-USD','AVAX-USD','DOT-USD','DOGE-USD']"
   ]
  },
  {
   "cell_type": "code",
   "execution_count": null,
   "id": "49f45604-c818-4667-bc4a-c803deb48349",
   "metadata": {},
   "outputs": [],
   "source": [
    "# Historical Data for top 10 crypto coins 2016 - 2019\n",
    "# IGNORE ERROR THIS IS BC THE CRYPTOS DIDNT EXIST AT THAT TIME\n",
    "start = dt.datetime(2016, 1, 1)\n",
    "end = dt.datetime(2018, 12, 31)\n",
    " \n",
    "hist_2016_2019 = pdr.get_data_yahoo(tickers, start, end)\n",
    "hist_1_close = hist_2016_2019['Close']\n",
    "hist_1_close.mean().hvplot.bar(title = \"2016 - 2019\")"
   ]
  },
  {
   "cell_type": "code",
   "execution_count": 242,
   "id": "37f74a64-e187-405a-9287-32ffd0d6ba05",
   "metadata": {},
   "outputs": [
    {
     "data": {},
     "metadata": {},
     "output_type": "display_data"
    },
    {
     "data": {
      "application/vnd.holoviews_exec.v0+json": "",
      "text/html": [
       "<div id='2333'>\n",
       "\n",
       "\n",
       "\n",
       "\n",
       "\n",
       "  <div class=\"bk-root\" id=\"a27d190b-39ee-4727-bcbc-0fa946730971\" data-root-id=\"2333\"></div>\n",
       "</div>\n",
       "<script type=\"application/javascript\">(function(root) {\n",
       "  function embed_document(root) {\n",
       "    var docs_json = {\"fb2e621f-d00f-4866-8a43-a83712b533e0\":{\"defs\":[{\"extends\":null,\"module\":null,\"name\":\"ReactiveHTML1\",\"overrides\":[],\"properties\":[]},{\"extends\":null,\"module\":null,\"name\":\"FlexBox1\",\"overrides\":[],\"properties\":[{\"default\":\"flex-start\",\"kind\":null,\"name\":\"align_content\"},{\"default\":\"flex-start\",\"kind\":null,\"name\":\"align_items\"},{\"default\":\"row\",\"kind\":null,\"name\":\"flex_direction\"},{\"default\":\"wrap\",\"kind\":null,\"name\":\"flex_wrap\"},{\"default\":\"flex-start\",\"kind\":null,\"name\":\"justify_content\"}]},{\"extends\":null,\"module\":null,\"name\":\"GridStack1\",\"overrides\":[],\"properties\":[{\"default\":\"warn\",\"kind\":null,\"name\":\"mode\"},{\"default\":null,\"kind\":null,\"name\":\"ncols\"},{\"default\":null,\"kind\":null,\"name\":\"nrows\"},{\"default\":true,\"kind\":null,\"name\":\"allow_resize\"},{\"default\":true,\"kind\":null,\"name\":\"allow_drag\"},{\"default\":[],\"kind\":null,\"name\":\"state\"}]},{\"extends\":null,\"module\":null,\"name\":\"click1\",\"overrides\":[],\"properties\":[{\"default\":\"\",\"kind\":null,\"name\":\"terminal_output\"},{\"default\":\"\",\"kind\":null,\"name\":\"debug_name\"},{\"default\":0,\"kind\":null,\"name\":\"clears\"}]},{\"extends\":null,\"module\":null,\"name\":\"TemplateActions1\",\"overrides\":[],\"properties\":[{\"default\":0,\"kind\":null,\"name\":\"open_modal\"},{\"default\":0,\"kind\":null,\"name\":\"close_modal\"}]},{\"extends\":null,\"module\":null,\"name\":\"MaterialTemplateActions1\",\"overrides\":[],\"properties\":[{\"default\":0,\"kind\":null,\"name\":\"open_modal\"},{\"default\":0,\"kind\":null,\"name\":\"close_modal\"}]}],\"roots\":{\"references\":[{\"attributes\":{\"end\":44726.063678347855,\"reset_end\":44726.063678347855,\"reset_start\":0.0,\"tags\":[[[\"0\",\"0\",null]]]},\"id\":\"2336\",\"type\":\"Range1d\"},{\"attributes\":{},\"id\":\"2345\",\"type\":\"LinearScale\"},{\"attributes\":{},\"id\":\"2380\",\"type\":\"BasicTickFormatter\"},{\"attributes\":{\"tools\":[{\"id\":\"2337\"},{\"id\":\"2354\"},{\"id\":\"2355\"},{\"id\":\"2356\"},{\"id\":\"2357\"},{\"id\":\"2358\"}]},\"id\":\"2360\",\"type\":\"Toolbar\"},{\"attributes\":{},\"id\":\"2354\",\"type\":\"SaveTool\"},{\"attributes\":{\"callback\":null,\"renderers\":[{\"id\":\"2373\"}],\"tags\":[\"hv_created\"],\"tooltips\":[[\"Symbols\",\"@{Symbols}\"],[\"0\",\"@{A_0}\"]]},\"id\":\"2337\",\"type\":\"HoverTool\"},{\"attributes\":{\"source\":{\"id\":\"2367\"}},\"id\":\"2374\",\"type\":\"CDSView\"},{\"attributes\":{\"axis_label\":\"Symbols\",\"coordinates\":null,\"formatter\":{\"id\":\"2377\"},\"group\":null,\"major_label_policy\":{\"id\":\"2378\"},\"ticker\":{\"id\":\"2348\"}},\"id\":\"2347\",\"type\":\"CategoricalAxis\"},{\"attributes\":{\"overlay\":{\"id\":\"2359\"}},\"id\":\"2357\",\"type\":\"BoxZoomTool\"},{\"attributes\":{\"coordinates\":null,\"group\":null,\"text\":\"2016 - Present\",\"text_color\":\"black\",\"text_font_size\":\"12pt\"},\"id\":\"2339\",\"type\":\"Title\"},{\"attributes\":{\"coordinates\":null,\"data_source\":{\"id\":\"2367\"},\"glyph\":{\"id\":\"2370\"},\"group\":null,\"hover_glyph\":null,\"muted_glyph\":{\"id\":\"2372\"},\"nonselection_glyph\":{\"id\":\"2371\"},\"selection_glyph\":{\"id\":\"2375\"},\"view\":{\"id\":\"2374\"}},\"id\":\"2373\",\"type\":\"GlyphRenderer\"},{\"attributes\":{},\"id\":\"2381\",\"type\":\"AllLabels\"},{\"attributes\":{},\"id\":\"2368\",\"type\":\"Selection\"},{\"attributes\":{},\"id\":\"2348\",\"type\":\"CategoricalTicker\"},{\"attributes\":{},\"id\":\"2343\",\"type\":\"CategoricalScale\"},{\"attributes\":{},\"id\":\"2358\",\"type\":\"ResetTool\"},{\"attributes\":{},\"id\":\"2389\",\"type\":\"UnionRenderers\"},{\"attributes\":{\"bottom\":{\"value\":0},\"fill_alpha\":{\"value\":1.0},\"fill_color\":{\"value\":\"#30a2da\"},\"hatch_alpha\":{\"value\":1.0},\"hatch_color\":{\"value\":\"#30a2da\"},\"hatch_scale\":{\"value\":12.0},\"hatch_weight\":{\"value\":1.0},\"line_alpha\":{\"value\":1.0},\"line_cap\":{\"value\":\"butt\"},\"line_color\":{\"value\":\"black\"},\"line_dash\":{\"value\":[]},\"line_dash_offset\":{\"value\":0},\"line_join\":{\"value\":\"bevel\"},\"line_width\":{\"value\":1},\"top\":{\"field\":\"A_0\"},\"width\":{\"value\":0.8},\"x\":{\"field\":\"Symbols\"}},\"id\":\"2375\",\"type\":\"VBar\"},{\"attributes\":{\"margin\":[5,5,5,5],\"name\":\"HSpacer03351\",\"sizing_mode\":\"stretch_width\"},\"id\":\"2402\",\"type\":\"Spacer\"},{\"attributes\":{\"margin\":[5,5,5,5],\"name\":\"HSpacer03350\",\"sizing_mode\":\"stretch_width\"},\"id\":\"2334\",\"type\":\"Spacer\"},{\"attributes\":{\"factors\":[\"BNB-USD\",\"BTC-USD\",\"XRP-USD\",\"SOL-USD\",\"LUNA-USD\",\"ADA-USD\",\"AVAX-USD\",\"DOT-USD\",\"DOGE-USD\"],\"tags\":[[[\"Symbols\",\"Symbols\",null]]]},\"id\":\"2335\",\"type\":\"FactorRange\"},{\"attributes\":{\"axis\":{\"id\":\"2350\"},\"coordinates\":null,\"dimension\":1,\"grid_line_color\":null,\"group\":null,\"ticker\":null},\"id\":\"2353\",\"type\":\"Grid\"},{\"attributes\":{},\"id\":\"2377\",\"type\":\"CategoricalTickFormatter\"},{\"attributes\":{\"data\":{\"A_0\":{\"__ndarray__\":\"uJDeDHuNc0DMZzDfgdrjQFZTWXWRFeg/4zkMB9zYUEBjOY1xW0Z7P5fRXFoZ/fI/tpTWQszfQkBeQ3mlM303QDKcx1TdYMQ/\",\"dtype\":\"float64\",\"order\":\"little\",\"shape\":[9]},\"Symbols\":[\"BNB-USD\",\"BTC-USD\",\"XRP-USD\",\"SOL-USD\",\"LUNA-USD\",\"ADA-USD\",\"AVAX-USD\",\"DOT-USD\",\"DOGE-USD\"]},\"selected\":{\"id\":\"2368\"},\"selection_policy\":{\"id\":\"2389\"}},\"id\":\"2367\",\"type\":\"ColumnDataSource\"},{\"attributes\":{\"fill_alpha\":{\"value\":0.1},\"fill_color\":{\"value\":\"#30a2da\"},\"hatch_alpha\":{\"value\":0.1},\"hatch_color\":{\"value\":\"#30a2da\"},\"line_alpha\":{\"value\":0.1},\"top\":{\"field\":\"A_0\"},\"width\":{\"value\":0.8},\"x\":{\"field\":\"Symbols\"}},\"id\":\"2371\",\"type\":\"VBar\"},{\"attributes\":{},\"id\":\"2355\",\"type\":\"PanTool\"},{\"attributes\":{\"fill_color\":{\"value\":\"#30a2da\"},\"hatch_color\":{\"value\":\"#30a2da\"},\"top\":{\"field\":\"A_0\"},\"width\":{\"value\":0.8},\"x\":{\"field\":\"Symbols\"}},\"id\":\"2370\",\"type\":\"VBar\"},{\"attributes\":{\"fill_alpha\":{\"value\":0.2},\"fill_color\":{\"value\":\"#30a2da\"},\"hatch_alpha\":{\"value\":0.2},\"hatch_color\":{\"value\":\"#30a2da\"},\"line_alpha\":{\"value\":0.2},\"top\":{\"field\":\"A_0\"},\"width\":{\"value\":0.8},\"x\":{\"field\":\"Symbols\"}},\"id\":\"2372\",\"type\":\"VBar\"},{\"attributes\":{\"bottom_units\":\"screen\",\"coordinates\":null,\"fill_alpha\":0.5,\"fill_color\":\"lightgrey\",\"group\":null,\"left_units\":\"screen\",\"level\":\"overlay\",\"line_alpha\":1.0,\"line_color\":\"black\",\"line_dash\":[4,4],\"line_width\":2,\"right_units\":\"screen\",\"syncable\":false,\"top_units\":\"screen\"},\"id\":\"2359\",\"type\":\"BoxAnnotation\"},{\"attributes\":{\"below\":[{\"id\":\"2347\"}],\"center\":[{\"id\":\"2349\"},{\"id\":\"2353\"}],\"height\":300,\"left\":[{\"id\":\"2350\"}],\"margin\":[5,5,5,5],\"min_border_bottom\":10,\"min_border_left\":10,\"min_border_right\":10,\"min_border_top\":10,\"renderers\":[{\"id\":\"2373\"}],\"sizing_mode\":\"fixed\",\"title\":{\"id\":\"2339\"},\"toolbar\":{\"id\":\"2360\"},\"width\":700,\"x_range\":{\"id\":\"2335\"},\"x_scale\":{\"id\":\"2343\"},\"y_range\":{\"id\":\"2336\"},\"y_scale\":{\"id\":\"2345\"}},\"id\":\"2338\",\"subtype\":\"Figure\",\"type\":\"Plot\"},{\"attributes\":{\"axis_label\":\"\",\"coordinates\":null,\"formatter\":{\"id\":\"2380\"},\"group\":null,\"major_label_policy\":{\"id\":\"2381\"},\"ticker\":{\"id\":\"2351\"}},\"id\":\"2350\",\"type\":\"LinearAxis\"},{\"attributes\":{},\"id\":\"2356\",\"type\":\"WheelZoomTool\"},{\"attributes\":{},\"id\":\"2351\",\"type\":\"BasicTicker\"},{\"attributes\":{\"children\":[{\"id\":\"2334\"},{\"id\":\"2338\"},{\"id\":\"2402\"}],\"margin\":[0,0,0,0],\"name\":\"Row03346\",\"tags\":[\"embedded\"]},\"id\":\"2333\",\"type\":\"Row\"},{\"attributes\":{\"axis\":{\"id\":\"2347\"},\"coordinates\":null,\"grid_line_color\":null,\"group\":null,\"ticker\":null},\"id\":\"2349\",\"type\":\"Grid\"},{\"attributes\":{},\"id\":\"2378\",\"type\":\"AllLabels\"}],\"root_ids\":[\"2333\"]},\"title\":\"Bokeh Application\",\"version\":\"2.4.1\"}};\n",
       "    var render_items = [{\"docid\":\"fb2e621f-d00f-4866-8a43-a83712b533e0\",\"root_ids\":[\"2333\"],\"roots\":{\"2333\":\"a27d190b-39ee-4727-bcbc-0fa946730971\"}}];\n",
       "    root.Bokeh.embed.embed_items_notebook(docs_json, render_items);\n",
       "  }\n",
       "  if (root.Bokeh !== undefined && root.Bokeh.Panel !== undefined) {\n",
       "    embed_document(root);\n",
       "  } else {\n",
       "    var attempts = 0;\n",
       "    var timer = setInterval(function(root) {\n",
       "      if (root.Bokeh !== undefined && root.Bokeh.Panel !== undefined) {\n",
       "        clearInterval(timer);\n",
       "        embed_document(root);\n",
       "      } else if (document.readyState == \"complete\") {\n",
       "        attempts++;\n",
       "        if (attempts > 200) {\n",
       "          clearInterval(timer);\n",
       "          console.log(\"Bokeh: ERROR: Unable to run BokehJS code because BokehJS library is missing\");\n",
       "        }\n",
       "      }\n",
       "    }, 25, root)\n",
       "  }\n",
       "})(window);</script>"
      ],
      "text/plain": [
       ":Bars   [Symbols]   (0)"
      ]
     },
     "execution_count": 242,
     "metadata": {
      "application/vnd.holoviews_exec.v0+json": {
       "id": "2333"
      }
     },
     "output_type": "execute_result"
    }
   ],
   "source": [
    "# Historical Data for top 10 crypto coins 2016 - Present\n",
    "start = dt.datetime(2016, 1, 1)\n",
    "end = dt.datetime(2022, 5, 2)\n",
    " \n",
    "hist_2016_present = pdr.get_data_yahoo(tickers, start, end)\n",
    "hist_2_close = hist_2016_present['Close']\n",
    "hist_2_close.dropna().mean().hvplot.bar(title=\"2016 - Present\")"
   ]
  },
  {
   "cell_type": "code",
   "execution_count": 207,
   "id": "f30593c7-ae38-429d-b9c9-c61fe5418ebd",
   "metadata": {},
   "outputs": [
    {
     "data": {},
     "metadata": {},
     "output_type": "display_data"
    },
    {
     "data": {
      "application/vnd.holoviews_exec.v0+json": "",
      "text/html": [
       "<div id='1970'>\n",
       "\n",
       "\n",
       "\n",
       "\n",
       "\n",
       "  <div class=\"bk-root\" id=\"844bed2a-6fa9-48ce-bde5-2918d2fcf24f\" data-root-id=\"1970\"></div>\n",
       "</div>\n",
       "<script type=\"application/javascript\">(function(root) {\n",
       "  function embed_document(root) {\n",
       "    var docs_json = {\"3ac79872-56d6-4ed9-9cda-9560c8e30332\":{\"defs\":[{\"extends\":null,\"module\":null,\"name\":\"ReactiveHTML1\",\"overrides\":[],\"properties\":[]},{\"extends\":null,\"module\":null,\"name\":\"FlexBox1\",\"overrides\":[],\"properties\":[{\"default\":\"flex-start\",\"kind\":null,\"name\":\"align_content\"},{\"default\":\"flex-start\",\"kind\":null,\"name\":\"align_items\"},{\"default\":\"row\",\"kind\":null,\"name\":\"flex_direction\"},{\"default\":\"wrap\",\"kind\":null,\"name\":\"flex_wrap\"},{\"default\":\"flex-start\",\"kind\":null,\"name\":\"justify_content\"}]},{\"extends\":null,\"module\":null,\"name\":\"GridStack1\",\"overrides\":[],\"properties\":[{\"default\":\"warn\",\"kind\":null,\"name\":\"mode\"},{\"default\":null,\"kind\":null,\"name\":\"ncols\"},{\"default\":null,\"kind\":null,\"name\":\"nrows\"},{\"default\":true,\"kind\":null,\"name\":\"allow_resize\"},{\"default\":true,\"kind\":null,\"name\":\"allow_drag\"},{\"default\":[],\"kind\":null,\"name\":\"state\"}]},{\"extends\":null,\"module\":null,\"name\":\"click1\",\"overrides\":[],\"properties\":[{\"default\":\"\",\"kind\":null,\"name\":\"terminal_output\"},{\"default\":\"\",\"kind\":null,\"name\":\"debug_name\"},{\"default\":0,\"kind\":null,\"name\":\"clears\"}]},{\"extends\":null,\"module\":null,\"name\":\"TemplateActions1\",\"overrides\":[],\"properties\":[{\"default\":0,\"kind\":null,\"name\":\"open_modal\"},{\"default\":0,\"kind\":null,\"name\":\"close_modal\"}]},{\"extends\":null,\"module\":null,\"name\":\"MaterialTemplateActions1\",\"overrides\":[],\"properties\":[{\"default\":0,\"kind\":null,\"name\":\"open_modal\"},{\"default\":0,\"kind\":null,\"name\":\"close_modal\"}]}],\"roots\":{\"references\":[{\"attributes\":{\"factors\":[\"BNB-USD\",\"BTC-USD\",\"XRP-USD\",\"SOL-USD\",\"LUNA-USD\",\"ADA-USD\",\"AVAX-USD\",\"DOT-USD\",\"DOGE-USD\"],\"tags\":[[[\"Symbols\",\"Symbols\",null]]]},\"id\":\"1972\",\"type\":\"FactorRange\"},{\"attributes\":{},\"id\":\"2005\",\"type\":\"Selection\"},{\"attributes\":{},\"id\":\"1992\",\"type\":\"PanTool\"},{\"attributes\":{},\"id\":\"1993\",\"type\":\"WheelZoomTool\"},{\"attributes\":{\"children\":[{\"id\":\"1971\"},{\"id\":\"1975\"},{\"id\":\"2039\"}],\"margin\":[0,0,0,0],\"name\":\"Row02840\",\"tags\":[\"embedded\"]},\"id\":\"1970\",\"type\":\"Row\"},{\"attributes\":{},\"id\":\"2014\",\"type\":\"CategoricalTickFormatter\"},{\"attributes\":{},\"id\":\"2018\",\"type\":\"AllLabels\"},{\"attributes\":{},\"id\":\"2015\",\"type\":\"AllLabels\"},{\"attributes\":{\"below\":[{\"id\":\"1984\"}],\"center\":[{\"id\":\"1986\"},{\"id\":\"1990\"}],\"height\":300,\"left\":[{\"id\":\"1987\"}],\"margin\":[5,5,5,5],\"min_border_bottom\":10,\"min_border_left\":10,\"min_border_right\":10,\"min_border_top\":10,\"renderers\":[{\"id\":\"2010\"}],\"sizing_mode\":\"fixed\",\"title\":{\"id\":\"1976\"},\"toolbar\":{\"id\":\"1997\"},\"width\":700,\"x_range\":{\"id\":\"1972\"},\"x_scale\":{\"id\":\"1980\"},\"y_range\":{\"id\":\"1973\"},\"y_scale\":{\"id\":\"1982\"}},\"id\":\"1975\",\"subtype\":\"Figure\",\"type\":\"Plot\"},{\"attributes\":{\"bottom_units\":\"screen\",\"coordinates\":null,\"fill_alpha\":0.5,\"fill_color\":\"lightgrey\",\"group\":null,\"left_units\":\"screen\",\"level\":\"overlay\",\"line_alpha\":1.0,\"line_color\":\"black\",\"line_dash\":[4,4],\"line_width\":2,\"right_units\":\"screen\",\"syncable\":false,\"top_units\":\"screen\"},\"id\":\"1996\",\"type\":\"BoxAnnotation\"},{\"attributes\":{\"tools\":[{\"id\":\"1974\"},{\"id\":\"1991\"},{\"id\":\"1992\"},{\"id\":\"1993\"},{\"id\":\"1994\"},{\"id\":\"1995\"}]},\"id\":\"1997\",\"type\":\"Toolbar\"},{\"attributes\":{\"margin\":[5,5,5,5],\"name\":\"HSpacer02844\",\"sizing_mode\":\"stretch_width\"},\"id\":\"1971\",\"type\":\"Spacer\"},{\"attributes\":{\"end\":44726.063678347855,\"reset_end\":44726.063678347855,\"reset_start\":0.0,\"tags\":[[[\"0\",\"0\",null]]]},\"id\":\"1973\",\"type\":\"Range1d\"},{\"attributes\":{\"axis\":{\"id\":\"1987\"},\"coordinates\":null,\"dimension\":1,\"grid_line_color\":null,\"group\":null,\"ticker\":null},\"id\":\"1990\",\"type\":\"Grid\"},{\"attributes\":{},\"id\":\"2017\",\"type\":\"BasicTickFormatter\"},{\"attributes\":{},\"id\":\"1985\",\"type\":\"CategoricalTicker\"},{\"attributes\":{\"overlay\":{\"id\":\"1996\"}},\"id\":\"1994\",\"type\":\"BoxZoomTool\"},{\"attributes\":{},\"id\":\"1995\",\"type\":\"ResetTool\"},{\"attributes\":{},\"id\":\"1982\",\"type\":\"LinearScale\"},{\"attributes\":{\"fill_alpha\":{\"value\":0.2},\"fill_color\":{\"value\":\"#30a2da\"},\"hatch_alpha\":{\"value\":0.2},\"hatch_color\":{\"value\":\"#30a2da\"},\"line_alpha\":{\"value\":0.2},\"top\":{\"field\":\"A_0\"},\"width\":{\"value\":0.8},\"x\":{\"field\":\"Symbols\"}},\"id\":\"2009\",\"type\":\"VBar\"},{\"attributes\":{},\"id\":\"1988\",\"type\":\"BasicTicker\"},{\"attributes\":{\"source\":{\"id\":\"2004\"}},\"id\":\"2011\",\"type\":\"CDSView\"},{\"attributes\":{\"axis\":{\"id\":\"1984\"},\"coordinates\":null,\"grid_line_color\":null,\"group\":null,\"ticker\":null},\"id\":\"1986\",\"type\":\"Grid\"},{\"attributes\":{\"bottom\":{\"value\":0},\"fill_alpha\":{\"value\":1.0},\"fill_color\":{\"value\":\"#30a2da\"},\"hatch_alpha\":{\"value\":1.0},\"hatch_color\":{\"value\":\"#30a2da\"},\"hatch_scale\":{\"value\":12.0},\"hatch_weight\":{\"value\":1.0},\"line_alpha\":{\"value\":1.0},\"line_cap\":{\"value\":\"butt\"},\"line_color\":{\"value\":\"black\"},\"line_dash\":{\"value\":[]},\"line_dash_offset\":{\"value\":0},\"line_join\":{\"value\":\"bevel\"},\"line_width\":{\"value\":1},\"top\":{\"field\":\"A_0\"},\"width\":{\"value\":0.8},\"x\":{\"field\":\"Symbols\"}},\"id\":\"2012\",\"type\":\"VBar\"},{\"attributes\":{},\"id\":\"1991\",\"type\":\"SaveTool\"},{\"attributes\":{},\"id\":\"1980\",\"type\":\"CategoricalScale\"},{\"attributes\":{\"axis_label\":\"\",\"coordinates\":null,\"formatter\":{\"id\":\"2017\"},\"group\":null,\"major_label_policy\":{\"id\":\"2018\"},\"ticker\":{\"id\":\"1988\"}},\"id\":\"1987\",\"type\":\"LinearAxis\"},{\"attributes\":{\"fill_alpha\":{\"value\":0.1},\"fill_color\":{\"value\":\"#30a2da\"},\"hatch_alpha\":{\"value\":0.1},\"hatch_color\":{\"value\":\"#30a2da\"},\"line_alpha\":{\"value\":0.1},\"top\":{\"field\":\"A_0\"},\"width\":{\"value\":0.8},\"x\":{\"field\":\"Symbols\"}},\"id\":\"2008\",\"type\":\"VBar\"},{\"attributes\":{\"callback\":null,\"renderers\":[{\"id\":\"2010\"}],\"tags\":[\"hv_created\"],\"tooltips\":[[\"Symbols\",\"@{Symbols}\"],[\"0\",\"@{A_0}\"]]},\"id\":\"1974\",\"type\":\"HoverTool\"},{\"attributes\":{},\"id\":\"2026\",\"type\":\"UnionRenderers\"},{\"attributes\":{\"axis_label\":\"Symbols\",\"coordinates\":null,\"formatter\":{\"id\":\"2014\"},\"group\":null,\"major_label_policy\":{\"id\":\"2015\"},\"ticker\":{\"id\":\"1985\"}},\"id\":\"1984\",\"type\":\"CategoricalAxis\"},{\"attributes\":{\"margin\":[5,5,5,5],\"name\":\"HSpacer02845\",\"sizing_mode\":\"stretch_width\"},\"id\":\"2039\",\"type\":\"Spacer\"},{\"attributes\":{\"coordinates\":null,\"group\":null,\"text\":\"2020 - Present\",\"text_color\":\"black\",\"text_font_size\":\"12pt\"},\"id\":\"1976\",\"type\":\"Title\"},{\"attributes\":{\"coordinates\":null,\"data_source\":{\"id\":\"2004\"},\"glyph\":{\"id\":\"2007\"},\"group\":null,\"hover_glyph\":null,\"muted_glyph\":{\"id\":\"2009\"},\"nonselection_glyph\":{\"id\":\"2008\"},\"selection_glyph\":{\"id\":\"2012\"},\"view\":{\"id\":\"2011\"}},\"id\":\"2010\",\"type\":\"GlyphRenderer\"},{\"attributes\":{\"fill_color\":{\"value\":\"#30a2da\"},\"hatch_color\":{\"value\":\"#30a2da\"},\"top\":{\"field\":\"A_0\"},\"width\":{\"value\":0.8},\"x\":{\"field\":\"Symbols\"}},\"id\":\"2007\",\"type\":\"VBar\"},{\"attributes\":{\"data\":{\"A_0\":{\"__ndarray__\":\"uJDeDHuNc0DMZzDfgdrjQFZTWXWRFeg/4zkMB9zYUEBjOY1xW0Z7P5fRXFoZ/fI/tpTWQszfQkBeQ3mlM303QDKcx1TdYMQ/\",\"dtype\":\"float64\",\"order\":\"little\",\"shape\":[9]},\"Symbols\":[\"BNB-USD\",\"BTC-USD\",\"XRP-USD\",\"SOL-USD\",\"LUNA-USD\",\"ADA-USD\",\"AVAX-USD\",\"DOT-USD\",\"DOGE-USD\"]},\"selected\":{\"id\":\"2005\"},\"selection_policy\":{\"id\":\"2026\"}},\"id\":\"2004\",\"type\":\"ColumnDataSource\"}],\"root_ids\":[\"1970\"]},\"title\":\"Bokeh Application\",\"version\":\"2.4.1\"}};\n",
       "    var render_items = [{\"docid\":\"3ac79872-56d6-4ed9-9cda-9560c8e30332\",\"root_ids\":[\"1970\"],\"roots\":{\"1970\":\"844bed2a-6fa9-48ce-bde5-2918d2fcf24f\"}}];\n",
       "    root.Bokeh.embed.embed_items_notebook(docs_json, render_items);\n",
       "  }\n",
       "  if (root.Bokeh !== undefined && root.Bokeh.Panel !== undefined) {\n",
       "    embed_document(root);\n",
       "  } else {\n",
       "    var attempts = 0;\n",
       "    var timer = setInterval(function(root) {\n",
       "      if (root.Bokeh !== undefined && root.Bokeh.Panel !== undefined) {\n",
       "        clearInterval(timer);\n",
       "        embed_document(root);\n",
       "      } else if (document.readyState == \"complete\") {\n",
       "        attempts++;\n",
       "        if (attempts > 200) {\n",
       "          clearInterval(timer);\n",
       "          console.log(\"Bokeh: ERROR: Unable to run BokehJS code because BokehJS library is missing\");\n",
       "        }\n",
       "      }\n",
       "    }, 25, root)\n",
       "  }\n",
       "})(window);</script>"
      ],
      "text/plain": [
       ":Bars   [Symbols]   (0)"
      ]
     },
     "execution_count": 207,
     "metadata": {
      "application/vnd.holoviews_exec.v0+json": {
       "id": "1970"
      }
     },
     "output_type": "execute_result"
    }
   ],
   "source": [
    "# Historical Data for top 10 crypto coins 2020 - Present\n",
    "start = dt.datetime(2020, 1, 1)\n",
    "end = dt.datetime(2022, 5, 2)\n",
    " \n",
    "hist_2020_present = pdr.get_data_yahoo(tickers, start, end)\n",
    "hist_3_close = hist_2020_present['Close']\n",
    "hist_3_close.dropna().mean().hvplot.bar(title = \"2020 - Present\")"
   ]
  },
  {
   "cell_type": "code",
   "execution_count": 244,
   "id": "be8a1f5f-b59c-49d5-b176-dbefa38e91e0",
   "metadata": {},
   "outputs": [
    {
     "data": {},
     "metadata": {},
     "output_type": "display_data"
    },
    {
     "data": {
      "application/vnd.holoviews_exec.v0+json": "",
      "text/html": [
       "<div id='2454'>\n",
       "\n",
       "\n",
       "\n",
       "\n",
       "\n",
       "  <div class=\"bk-root\" id=\"55132cec-0f3a-4e9b-8428-583c028f2911\" data-root-id=\"2454\"></div>\n",
       "</div>\n",
       "<script type=\"application/javascript\">(function(root) {\n",
       "  function embed_document(root) {\n",
       "    var docs_json = {\"df102b66-2e11-4a65-b15e-4a002d8c5b4f\":{\"defs\":[{\"extends\":null,\"module\":null,\"name\":\"ReactiveHTML1\",\"overrides\":[],\"properties\":[]},{\"extends\":null,\"module\":null,\"name\":\"FlexBox1\",\"overrides\":[],\"properties\":[{\"default\":\"flex-start\",\"kind\":null,\"name\":\"align_content\"},{\"default\":\"flex-start\",\"kind\":null,\"name\":\"align_items\"},{\"default\":\"row\",\"kind\":null,\"name\":\"flex_direction\"},{\"default\":\"wrap\",\"kind\":null,\"name\":\"flex_wrap\"},{\"default\":\"flex-start\",\"kind\":null,\"name\":\"justify_content\"}]},{\"extends\":null,\"module\":null,\"name\":\"GridStack1\",\"overrides\":[],\"properties\":[{\"default\":\"warn\",\"kind\":null,\"name\":\"mode\"},{\"default\":null,\"kind\":null,\"name\":\"ncols\"},{\"default\":null,\"kind\":null,\"name\":\"nrows\"},{\"default\":true,\"kind\":null,\"name\":\"allow_resize\"},{\"default\":true,\"kind\":null,\"name\":\"allow_drag\"},{\"default\":[],\"kind\":null,\"name\":\"state\"}]},{\"extends\":null,\"module\":null,\"name\":\"click1\",\"overrides\":[],\"properties\":[{\"default\":\"\",\"kind\":null,\"name\":\"terminal_output\"},{\"default\":\"\",\"kind\":null,\"name\":\"debug_name\"},{\"default\":0,\"kind\":null,\"name\":\"clears\"}]},{\"extends\":null,\"module\":null,\"name\":\"TemplateActions1\",\"overrides\":[],\"properties\":[{\"default\":0,\"kind\":null,\"name\":\"open_modal\"},{\"default\":0,\"kind\":null,\"name\":\"close_modal\"}]},{\"extends\":null,\"module\":null,\"name\":\"MaterialTemplateActions1\",\"overrides\":[],\"properties\":[{\"default\":0,\"kind\":null,\"name\":\"open_modal\"},{\"default\":0,\"kind\":null,\"name\":\"close_modal\"}]}],\"roots\":{\"references\":[{\"attributes\":{\"source\":{\"id\":\"2488\"}},\"id\":\"2495\",\"type\":\"CDSView\"},{\"attributes\":{\"fill_alpha\":{\"value\":0.1},\"fill_color\":{\"value\":\"#30a2da\"},\"hatch_alpha\":{\"value\":0.1},\"hatch_color\":{\"value\":\"#30a2da\"},\"line_alpha\":{\"value\":0.1},\"top\":{\"field\":\"marketCap\"},\"width\":{\"value\":0.8},\"x\":{\"field\":\"index\"}},\"id\":\"2492\",\"type\":\"VBar\"},{\"attributes\":{},\"id\":\"2499\",\"type\":\"AllLabels\"},{\"attributes\":{},\"id\":\"2489\",\"type\":\"Selection\"},{\"attributes\":{},\"id\":\"2466\",\"type\":\"LinearScale\"},{\"attributes\":{},\"id\":\"2472\",\"type\":\"BasicTicker\"},{\"attributes\":{\"bottom_units\":\"screen\",\"coordinates\":null,\"fill_alpha\":0.5,\"fill_color\":\"lightgrey\",\"group\":null,\"left_units\":\"screen\",\"level\":\"overlay\",\"line_alpha\":1.0,\"line_color\":\"black\",\"line_dash\":[4,4],\"line_width\":2,\"right_units\":\"screen\",\"syncable\":false,\"top_units\":\"screen\"},\"id\":\"2480\",\"type\":\"BoxAnnotation\"},{\"attributes\":{\"margin\":[5,5,5,5],\"name\":\"HSpacer03499\",\"sizing_mode\":\"stretch_width\"},\"id\":\"2455\",\"type\":\"Spacer\"},{\"attributes\":{\"callback\":null,\"renderers\":[{\"id\":\"2494\"}],\"tags\":[\"hv_created\"],\"tooltips\":[[\"index\",\"@{index}\"],[\"marketCap\",\"@{marketCap}\"]]},\"id\":\"2458\",\"type\":\"HoverTool\"},{\"attributes\":{\"data\":{\"index\":[\"BNB-USD\",\"BTC-USD\",\"XRP-USD\",\"SOL-USD\",\"LUNA-USD\",\"ADA-USD\",\"AVAX-USD\",\"DOT-USD\",\"DOGE-USD\"],\"marketCap\":[62827020288,721958600704,29511559168,28790099968,7121,26285838336,16214934528,14701531136,17285761024]},\"selected\":{\"id\":\"2489\"},\"selection_policy\":{\"id\":\"2510\"}},\"id\":\"2488\",\"type\":\"ColumnDataSource\"},{\"attributes\":{\"axis_label\":\"\",\"coordinates\":null,\"formatter\":{\"id\":\"2501\"},\"group\":null,\"major_label_policy\":{\"id\":\"2502\"},\"ticker\":{\"id\":\"2472\"}},\"id\":\"2471\",\"type\":\"LinearAxis\"},{\"attributes\":{\"tools\":[{\"id\":\"2458\"},{\"id\":\"2475\"},{\"id\":\"2476\"},{\"id\":\"2477\"},{\"id\":\"2478\"},{\"id\":\"2479\"}]},\"id\":\"2481\",\"type\":\"Toolbar\"},{\"attributes\":{\"children\":[{\"id\":\"2455\"},{\"id\":\"2459\"},{\"id\":\"2523\"}],\"margin\":[0,0,0,0],\"name\":\"Row03495\",\"tags\":[\"embedded\"]},\"id\":\"2454\",\"type\":\"Row\"},{\"attributes\":{\"below\":[{\"id\":\"2468\"}],\"center\":[{\"id\":\"2470\"},{\"id\":\"2474\"}],\"height\":300,\"left\":[{\"id\":\"2471\"}],\"margin\":[5,5,5,5],\"min_border_bottom\":10,\"min_border_left\":10,\"min_border_right\":10,\"min_border_top\":10,\"renderers\":[{\"id\":\"2494\"}],\"sizing_mode\":\"fixed\",\"title\":{\"id\":\"2460\"},\"toolbar\":{\"id\":\"2481\"},\"width\":700,\"x_range\":{\"id\":\"2456\"},\"x_scale\":{\"id\":\"2464\"},\"y_range\":{\"id\":\"2457\"},\"y_scale\":{\"id\":\"2466\"}},\"id\":\"2459\",\"subtype\":\"Figure\",\"type\":\"Plot\"},{\"attributes\":{\"fill_alpha\":{\"value\":0.2},\"fill_color\":{\"value\":\"#30a2da\"},\"hatch_alpha\":{\"value\":0.2},\"hatch_color\":{\"value\":\"#30a2da\"},\"line_alpha\":{\"value\":0.2},\"top\":{\"field\":\"marketCap\"},\"width\":{\"value\":0.8},\"x\":{\"field\":\"index\"}},\"id\":\"2493\",\"type\":\"VBar\"},{\"attributes\":{},\"id\":\"2498\",\"type\":\"CategoricalTickFormatter\"},{\"attributes\":{\"fill_color\":{\"value\":\"#30a2da\"},\"hatch_color\":{\"value\":\"#30a2da\"},\"top\":{\"field\":\"marketCap\"},\"width\":{\"value\":0.8},\"x\":{\"field\":\"index\"}},\"id\":\"2491\",\"type\":\"VBar\"},{\"attributes\":{},\"id\":\"2510\",\"type\":\"UnionRenderers\"},{\"attributes\":{},\"id\":\"2501\",\"type\":\"BasicTickFormatter\"},{\"attributes\":{},\"id\":\"2469\",\"type\":\"CategoricalTicker\"},{\"attributes\":{\"overlay\":{\"id\":\"2480\"}},\"id\":\"2478\",\"type\":\"BoxZoomTool\"},{\"attributes\":{\"end\":794154460062.3,\"reset_end\":794154460062.3,\"reset_start\":0.0,\"tags\":[[[\"marketCap\",\"marketCap\",null]]]},\"id\":\"2457\",\"type\":\"Range1d\"},{\"attributes\":{\"coordinates\":null,\"group\":null,\"text\":\"Top Ten Crypto Market Cap\",\"text_color\":\"black\",\"text_font_size\":\"12pt\"},\"id\":\"2460\",\"type\":\"Title\"},{\"attributes\":{},\"id\":\"2476\",\"type\":\"PanTool\"},{\"attributes\":{},\"id\":\"2477\",\"type\":\"WheelZoomTool\"},{\"attributes\":{},\"id\":\"2464\",\"type\":\"CategoricalScale\"},{\"attributes\":{\"axis\":{\"id\":\"2471\"},\"coordinates\":null,\"dimension\":1,\"grid_line_color\":null,\"group\":null,\"ticker\":null},\"id\":\"2474\",\"type\":\"Grid\"},{\"attributes\":{},\"id\":\"2502\",\"type\":\"AllLabels\"},{\"attributes\":{\"axis_label\":\"\",\"coordinates\":null,\"formatter\":{\"id\":\"2498\"},\"group\":null,\"major_label_policy\":{\"id\":\"2499\"},\"ticker\":{\"id\":\"2469\"}},\"id\":\"2468\",\"type\":\"CategoricalAxis\"},{\"attributes\":{},\"id\":\"2475\",\"type\":\"SaveTool\"},{\"attributes\":{\"bottom\":{\"value\":0},\"fill_alpha\":{\"value\":1.0},\"fill_color\":{\"value\":\"#30a2da\"},\"hatch_alpha\":{\"value\":1.0},\"hatch_color\":{\"value\":\"#30a2da\"},\"hatch_scale\":{\"value\":12.0},\"hatch_weight\":{\"value\":1.0},\"line_alpha\":{\"value\":1.0},\"line_cap\":{\"value\":\"butt\"},\"line_color\":{\"value\":\"black\"},\"line_dash\":{\"value\":[]},\"line_dash_offset\":{\"value\":0},\"line_join\":{\"value\":\"bevel\"},\"line_width\":{\"value\":1},\"top\":{\"field\":\"marketCap\"},\"width\":{\"value\":0.8},\"x\":{\"field\":\"index\"}},\"id\":\"2496\",\"type\":\"VBar\"},{\"attributes\":{\"axis\":{\"id\":\"2468\"},\"coordinates\":null,\"grid_line_color\":null,\"group\":null,\"ticker\":null},\"id\":\"2470\",\"type\":\"Grid\"},{\"attributes\":{},\"id\":\"2479\",\"type\":\"ResetTool\"},{\"attributes\":{\"factors\":[\"BNB-USD\",\"BTC-USD\",\"XRP-USD\",\"SOL-USD\",\"LUNA-USD\",\"ADA-USD\",\"AVAX-USD\",\"DOT-USD\",\"DOGE-USD\"],\"tags\":[[[\"index\",\"index\",null]]]},\"id\":\"2456\",\"type\":\"FactorRange\"},{\"attributes\":{\"margin\":[5,5,5,5],\"name\":\"HSpacer03500\",\"sizing_mode\":\"stretch_width\"},\"id\":\"2523\",\"type\":\"Spacer\"},{\"attributes\":{\"coordinates\":null,\"data_source\":{\"id\":\"2488\"},\"glyph\":{\"id\":\"2491\"},\"group\":null,\"hover_glyph\":null,\"muted_glyph\":{\"id\":\"2493\"},\"nonselection_glyph\":{\"id\":\"2492\"},\"selection_glyph\":{\"id\":\"2496\"},\"view\":{\"id\":\"2495\"}},\"id\":\"2494\",\"type\":\"GlyphRenderer\"}],\"root_ids\":[\"2454\"]},\"title\":\"Bokeh Application\",\"version\":\"2.4.1\"}};\n",
       "    var render_items = [{\"docid\":\"df102b66-2e11-4a65-b15e-4a002d8c5b4f\",\"root_ids\":[\"2454\"],\"roots\":{\"2454\":\"55132cec-0f3a-4e9b-8428-583c028f2911\"}}];\n",
       "    root.Bokeh.embed.embed_items_notebook(docs_json, render_items);\n",
       "  }\n",
       "  if (root.Bokeh !== undefined && root.Bokeh.Panel !== undefined) {\n",
       "    embed_document(root);\n",
       "  } else {\n",
       "    var attempts = 0;\n",
       "    var timer = setInterval(function(root) {\n",
       "      if (root.Bokeh !== undefined && root.Bokeh.Panel !== undefined) {\n",
       "        clearInterval(timer);\n",
       "        embed_document(root);\n",
       "      } else if (document.readyState == \"complete\") {\n",
       "        attempts++;\n",
       "        if (attempts > 200) {\n",
       "          clearInterval(timer);\n",
       "          console.log(\"Bokeh: ERROR: Unable to run BokehJS code because BokehJS library is missing\");\n",
       "        }\n",
       "      }\n",
       "    }, 25, root)\n",
       "  }\n",
       "})(window);</script>"
      ],
      "text/plain": [
       ":Bars   [index]   (marketCap)"
      ]
     },
     "execution_count": 244,
     "metadata": {
      "application/vnd.holoviews_exec.v0+json": {
       "id": "2454"
      }
     },
     "output_type": "execute_result"
    }
   ],
   "source": [
    "# Get market cap for top 10 crypto coins \n",
    "# How do we visulaize using a pie chart?\n",
    "mc_data = pdr.get_quote_yahoo(tickers)\n",
    "mc = mc_data['marketCap']\n",
    "mc.hvplot.bar(title = \"Top Ten Crypto Market Cap\")"
   ]
  },
  {
   "cell_type": "code",
   "execution_count": null,
   "id": "352346fd-98f1-4eaa-b998-612c5edfdb16",
   "metadata": {},
   "outputs": [],
   "source": []
  }
 ],
 "metadata": {
  "kernelspec": {
   "display_name": "dev",
   "language": "python",
   "name": "dev"
  },
  "language_info": {
   "codemirror_mode": {
    "name": "ipython",
    "version": 3
   },
   "file_extension": ".py",
   "mimetype": "text/x-python",
   "name": "python",
   "nbconvert_exporter": "python",
   "pygments_lexer": "ipython3",
   "version": "3.7.11"
  },
  "widgets": {
   "application/vnd.jupyter.widget-state+json": {
    "state": {},
    "version_major": 2,
    "version_minor": 0
   }
  }
 },
 "nbformat": 4,
 "nbformat_minor": 5
}
